{
 "cells": [
  {
   "cell_type": "markdown",
   "metadata": {},
   "source": [
    "---\n",
    "INSTALACJE\n",
    "---\n",
    "Uruchamiamy tylko raz\n",
    "\n",
    "---"
   ]
  },
  {
   "cell_type": "code",
   "execution_count": 3,
   "metadata": {},
   "outputs": [
    {
     "name": "stdout",
     "output_type": "stream",
     "text": [
      "Collecting https://github.com/explosion/spacy-models/releases/download/pl_core_news_lg-3.4.0/pl_core_news_lg-3.4.0.tar.gzNote: you may need to restart the kernel to use updated packages.\n",
      "\n",
      "  Downloading https://github.com/explosion/spacy-models/releases/download/pl_core_news_lg-3.4.0/pl_core_news_lg-3.4.0.tar.gz (573.6 MB)\n",
      "     -------------------------------------- 573.6/573.6 MB 3.4 MB/s eta 0:00:00\n",
      "  Preparing metadata (setup.py): started\n",
      "  Preparing metadata (setup.py): finished with status 'done'\n",
      "Requirement already satisfied: spacy<3.5.0,>=3.4.0 in c:\\users\\jaceb\\studia\\magisterka - sem 2\\iui\\venv\\lib\\site-packages (from pl-core-news-lg==3.4.0) (3.4.2)\n",
      "Requirement already satisfied: catalogue<2.1.0,>=2.0.6 in c:\\users\\jaceb\\studia\\magisterka - sem 2\\iui\\venv\\lib\\site-packages (from spacy<3.5.0,>=3.4.0->pl-core-news-lg==3.4.0) (2.0.8)\n",
      "Requirement already satisfied: preshed<3.1.0,>=3.0.2 in c:\\users\\jaceb\\studia\\magisterka - sem 2\\iui\\venv\\lib\\site-packages (from spacy<3.5.0,>=3.4.0->pl-core-news-lg==3.4.0) (3.0.8)\n",
      "Requirement already satisfied: typer<0.5.0,>=0.3.0 in c:\\users\\jaceb\\studia\\magisterka - sem 2\\iui\\venv\\lib\\site-packages (from spacy<3.5.0,>=3.4.0->pl-core-news-lg==3.4.0) (0.4.2)\n",
      "Requirement already satisfied: packaging>=20.0 in c:\\users\\jaceb\\studia\\magisterka - sem 2\\iui\\venv\\lib\\site-packages (from spacy<3.5.0,>=3.4.0->pl-core-news-lg==3.4.0) (21.3)\n",
      "Requirement already satisfied: langcodes<4.0.0,>=3.2.0 in c:\\users\\jaceb\\studia\\magisterka - sem 2\\iui\\venv\\lib\\site-packages (from spacy<3.5.0,>=3.4.0->pl-core-news-lg==3.4.0) (3.3.0)\n",
      "Requirement already satisfied: jinja2 in c:\\users\\jaceb\\studia\\magisterka - sem 2\\iui\\venv\\lib\\site-packages (from spacy<3.5.0,>=3.4.0->pl-core-news-lg==3.4.0) (3.1.2)\n",
      "Requirement already satisfied: srsly<3.0.0,>=2.4.3 in c:\\users\\jaceb\\studia\\magisterka - sem 2\\iui\\venv\\lib\\site-packages (from spacy<3.5.0,>=3.4.0->pl-core-news-lg==3.4.0) (2.4.5)\n",
      "Requirement already satisfied: numpy>=1.15.0 in c:\\users\\jaceb\\studia\\magisterka - sem 2\\iui\\venv\\lib\\site-packages (from spacy<3.5.0,>=3.4.0->pl-core-news-lg==3.4.0) (1.23.4)\n",
      "Requirement already satisfied: thinc<8.2.0,>=8.1.0 in c:\\users\\jaceb\\studia\\magisterka - sem 2\\iui\\venv\\lib\\site-packages (from spacy<3.5.0,>=3.4.0->pl-core-news-lg==3.4.0) (8.1.5)\n",
      "Requirement already satisfied: cymem<2.1.0,>=2.0.2 in c:\\users\\jaceb\\studia\\magisterka - sem 2\\iui\\venv\\lib\\site-packages (from spacy<3.5.0,>=3.4.0->pl-core-news-lg==3.4.0) (2.0.7)\n",
      "Requirement already satisfied: murmurhash<1.1.0,>=0.28.0 in c:\\users\\jaceb\\studia\\magisterka - sem 2\\iui\\venv\\lib\\site-packages (from spacy<3.5.0,>=3.4.0->pl-core-news-lg==3.4.0) (1.0.9)\n",
      "Requirement already satisfied: requests<3.0.0,>=2.13.0 in c:\\users\\jaceb\\studia\\magisterka - sem 2\\iui\\venv\\lib\\site-packages (from spacy<3.5.0,>=3.4.0->pl-core-news-lg==3.4.0) (2.28.1)\n",
      "Requirement already satisfied: setuptools in c:\\users\\jaceb\\studia\\magisterka - sem 2\\iui\\venv\\lib\\site-packages (from spacy<3.5.0,>=3.4.0->pl-core-news-lg==3.4.0) (65.5.1)\n",
      "Requirement already satisfied: pydantic!=1.8,!=1.8.1,<1.11.0,>=1.7.4 in c:\\users\\jaceb\\studia\\magisterka - sem 2\\iui\\venv\\lib\\site-packages (from spacy<3.5.0,>=3.4.0->pl-core-news-lg==3.4.0) (1.10.2)\n",
      "Requirement already satisfied: spacy-loggers<2.0.0,>=1.0.0 in c:\\users\\jaceb\\studia\\magisterka - sem 2\\iui\\venv\\lib\\site-packages (from spacy<3.5.0,>=3.4.0->pl-core-news-lg==3.4.0) (1.0.3)\n",
      "Requirement already satisfied: spacy-legacy<3.1.0,>=3.0.10 in c:\\users\\jaceb\\studia\\magisterka - sem 2\\iui\\venv\\lib\\site-packages (from spacy<3.5.0,>=3.4.0->pl-core-news-lg==3.4.0) (3.0.10)\n",
      "Requirement already satisfied: pathy>=0.3.5 in c:\\users\\jaceb\\studia\\magisterka - sem 2\\iui\\venv\\lib\\site-packages (from spacy<3.5.0,>=3.4.0->pl-core-news-lg==3.4.0) (0.6.2)\n",
      "Requirement already satisfied: tqdm<5.0.0,>=4.38.0 in c:\\users\\jaceb\\studia\\magisterka - sem 2\\iui\\venv\\lib\\site-packages (from spacy<3.5.0,>=3.4.0->pl-core-news-lg==3.4.0) (4.64.1)\n",
      "Requirement already satisfied: wasabi<1.1.0,>=0.9.1 in c:\\users\\jaceb\\studia\\magisterka - sem 2\\iui\\venv\\lib\\site-packages (from spacy<3.5.0,>=3.4.0->pl-core-news-lg==3.4.0) (0.10.1)\n",
      "Requirement already satisfied: pyparsing!=3.0.5,>=2.0.2 in c:\\users\\jaceb\\studia\\magisterka - sem 2\\iui\\venv\\lib\\site-packages (from packaging>=20.0->spacy<3.5.0,>=3.4.0->pl-core-news-lg==3.4.0) (3.0.9)\n",
      "Requirement already satisfied: smart-open<6.0.0,>=5.2.1 in c:\\users\\jaceb\\studia\\magisterka - sem 2\\iui\\venv\\lib\\site-packages (from pathy>=0.3.5->spacy<3.5.0,>=3.4.0->pl-core-news-lg==3.4.0) (5.2.1)\n",
      "Requirement already satisfied: typing-extensions>=4.1.0 in c:\\users\\jaceb\\studia\\magisterka - sem 2\\iui\\venv\\lib\\site-packages (from pydantic!=1.8,!=1.8.1,<1.11.0,>=1.7.4->spacy<3.5.0,>=3.4.0->pl-core-news-lg==3.4.0) (4.4.0)\n",
      "Requirement already satisfied: certifi>=2017.4.17 in c:\\users\\jaceb\\studia\\magisterka - sem 2\\iui\\venv\\lib\\site-packages (from requests<3.0.0,>=2.13.0->spacy<3.5.0,>=3.4.0->pl-core-news-lg==3.4.0) (2022.9.24)\n",
      "Requirement already satisfied: idna<4,>=2.5 in c:\\users\\jaceb\\studia\\magisterka - sem 2\\iui\\venv\\lib\\site-packages (from requests<3.0.0,>=2.13.0->spacy<3.5.0,>=3.4.0->pl-core-news-lg==3.4.0) (3.4)\n",
      "Requirement already satisfied: urllib3<1.27,>=1.21.1 in c:\\users\\jaceb\\studia\\magisterka - sem 2\\iui\\venv\\lib\\site-packages (from requests<3.0.0,>=2.13.0->spacy<3.5.0,>=3.4.0->pl-core-news-lg==3.4.0) (1.26.12)\n",
      "Requirement already satisfied: charset-normalizer<3,>=2 in c:\\users\\jaceb\\studia\\magisterka - sem 2\\iui\\venv\\lib\\site-packages (from requests<3.0.0,>=2.13.0->spacy<3.5.0,>=3.4.0->pl-core-news-lg==3.4.0) (2.1.1)\n",
      "Requirement already satisfied: confection<1.0.0,>=0.0.1 in c:\\users\\jaceb\\studia\\magisterka - sem 2\\iui\\venv\\lib\\site-packages (from thinc<8.2.0,>=8.1.0->spacy<3.5.0,>=3.4.0->pl-core-news-lg==3.4.0) (0.0.3)\n",
      "Requirement already satisfied: blis<0.8.0,>=0.7.8 in c:\\users\\jaceb\\studia\\magisterka - sem 2\\iui\\venv\\lib\\site-packages (from thinc<8.2.0,>=8.1.0->spacy<3.5.0,>=3.4.0->pl-core-news-lg==3.4.0) (0.7.9)\n",
      "Requirement already satisfied: colorama in c:\\users\\jaceb\\studia\\magisterka - sem 2\\iui\\venv\\lib\\site-packages (from tqdm<5.0.0,>=4.38.0->spacy<3.5.0,>=3.4.0->pl-core-news-lg==3.4.0) (0.4.6)\n",
      "Requirement already satisfied: click<9.0.0,>=7.1.1 in c:\\users\\jaceb\\studia\\magisterka - sem 2\\iui\\venv\\lib\\site-packages (from typer<0.5.0,>=0.3.0->spacy<3.5.0,>=3.4.0->pl-core-news-lg==3.4.0) (8.1.3)\n",
      "Requirement already satisfied: MarkupSafe>=2.0 in c:\\users\\jaceb\\studia\\magisterka - sem 2\\iui\\venv\\lib\\site-packages (from jinja2->spacy<3.5.0,>=3.4.0->pl-core-news-lg==3.4.0) (2.1.1)\n",
      "Installing collected packages: pl-core-news-lg\n",
      "  Running setup.py install for pl-core-news-lg: started\n",
      "  Running setup.py install for pl-core-news-lg: finished with status 'done'\n",
      "Successfully installed pl-core-news-lg-3.4.0\n"
     ]
    },
    {
     "name": "stderr",
     "output_type": "stream",
     "text": [
      "  DEPRECATION: pl-core-news-lg is being installed using the legacy 'setup.py install' method, because it does not have a 'pyproject.toml' and the 'wheel' package is not installed. pip 23.1 will enforce this behaviour change. A possible replacement is to enable the '--use-pep517' option. Discussion can be found at https://github.com/pypa/pip/issues/8559\n"
     ]
    }
   ],
   "source": [
    "pip install \"https://github.com/explosion/spacy-models/releases/download/pl_core_news_lg-3.4.0/pl_core_news_lg-3.4.0.tar.gz\""
   ]
  },
  {
   "cell_type": "code",
   "execution_count": 3,
   "metadata": {},
   "outputs": [
    {
     "name": "stdout",
     "output_type": "stream",
     "text": [
      "Requirement already satisfied: networkx in c:\\users\\1boze\\appdata\\local\\programs\\python\\python39\\lib\\site-packages (3.0)\n",
      "Requirement already satisfied: graphviz in c:\\users\\1boze\\appdata\\local\\programs\\python\\python39\\lib\\site-packages (0.20.1)\n",
      "Note: you may need to restart the kernel to use updated packages.\n"
     ]
    },
    {
     "name": "stderr",
     "output_type": "stream",
     "text": [
      "WARNING: You are using pip version 21.0.1; however, version 22.3.1 is available.\n",
      "You should consider upgrading via the 'c:\\Users\\1boze\\AppData\\Local\\Programs\\Python\\Python39\\python.exe -m pip install --upgrade pip' command.\n"
     ]
    }
   ],
   "source": [
    "pip install spacy pandas minisom scikit-learn gensim networkx graphviz pyplot pivottablejs tabulate"
   ]
  }
 ],
 "metadata": {
  "kernelspec": {
   "display_name": "Python 3 (ipykernel)",
   "language": "python",
   "name": "python3"
  },
  "language_info": {
   "codemirror_mode": {
    "name": "ipython",
    "version": 3
   },
   "file_extension": ".py",
   "mimetype": "text/x-python",
   "name": "python",
   "nbconvert_exporter": "python",
   "pygments_lexer": "ipython3",
   "version": "3.9.0"
  },
  "vscode": {
   "interpreter": {
    "hash": "867381b69202c7e0c85d8bb1ba870abb3956b598787bedfe15df5441b3066f1b"
   }
  }
 },
 "nbformat": 4,
 "nbformat_minor": 2
}
