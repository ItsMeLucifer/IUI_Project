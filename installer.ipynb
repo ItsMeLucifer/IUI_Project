{
 "cells": [
  {
   "cell_type": "markdown",
   "metadata": {},
   "source": [
    "---\n",
    "INSTALACJE\n",
    "---\n",
    "Uruchamiamy tylko raz\n",
    "\n",
    "---"
   ]
  },
  {
   "cell_type": "code",
   "execution_count": 1,
   "metadata": {},
   "outputs": [
    {
     "name": "stdout",
     "output_type": "stream",
     "text": [
      "Requirement already satisfied: spacy in c:\\users\\jaceb\\studia\\magisterka - sem 2\\iui\\venv\\lib\\site-packages (3.4.2)\n",
      "Requirement already satisfied: requests<3.0.0,>=2.13.0 in c:\\users\\jaceb\\studia\\magisterka - sem 2\\iui\\venv\\lib\\site-packages (from spacy) (2.28.1)\n",
      "Requirement already satisfied: setuptools in c:\\users\\jaceb\\studia\\magisterka - sem 2\\iui\\venv\\lib\\site-packages (from spacy) (65.5.1)\n",
      "Requirement already satisfied: srsly<3.0.0,>=2.4.3 in c:\\users\\jaceb\\studia\\magisterka - sem 2\\iui\\venv\\lib\\site-packages (from spacy) (2.4.5)\n",
      "Requirement already satisfied: pathy>=0.3.5 in c:\\users\\jaceb\\studia\\magisterka - sem 2\\iui\\venv\\lib\\site-packages (from spacy) (0.6.2)\n",
      "Requirement already satisfied: cymem<2.1.0,>=2.0.2 in c:\\users\\jaceb\\studia\\magisterka - sem 2\\iui\\venv\\lib\\site-packages (from spacy) (2.0.7)\n",
      "Requirement already satisfied: langcodes<4.0.0,>=3.2.0 in c:\\users\\jaceb\\studia\\magisterka - sem 2\\iui\\venv\\lib\\site-packages (from spacy) (3.3.0)\n",
      "Requirement already satisfied: preshed<3.1.0,>=3.0.2 in c:\\users\\jaceb\\studia\\magisterka - sem 2\\iui\\venv\\lib\\site-packages (from spacy) (3.0.8)\n",
      "Requirement already satisfied: catalogue<2.1.0,>=2.0.6 in c:\\users\\jaceb\\studia\\magisterka - sem 2\\iui\\venv\\lib\\site-packages (from spacy) (2.0.8)\n",
      "Requirement already satisfied: jinja2 in c:\\users\\jaceb\\studia\\magisterka - sem 2\\iui\\venv\\lib\\site-packages (from spacy) (3.1.2)\n",
      "Requirement already satisfied: murmurhash<1.1.0,>=0.28.0 in c:\\users\\jaceb\\studia\\magisterka - sem 2\\iui\\venv\\lib\\site-packages (from spacy) (1.0.9)\n",
      "Requirement already satisfied: thinc<8.2.0,>=8.1.0 in c:\\users\\jaceb\\studia\\magisterka - sem 2\\iui\\venv\\lib\\site-packages (from spacy) (8.1.5)\n",
      "Requirement already satisfied: numpy>=1.15.0 in c:\\users\\jaceb\\studia\\magisterka - sem 2\\iui\\venv\\lib\\site-packages (from spacy) (1.23.4)\n",
      "Requirement already satisfied: spacy-loggers<2.0.0,>=1.0.0 in c:\\users\\jaceb\\studia\\magisterka - sem 2\\iui\\venv\\lib\\site-packages (from spacy) (1.0.3)\n",
      "Requirement already satisfied: tqdm<5.0.0,>=4.38.0 in c:\\users\\jaceb\\studia\\magisterka - sem 2\\iui\\venv\\lib\\site-packages (from spacy) (4.64.1)\n",
      "Requirement already satisfied: packaging>=20.0 in c:\\users\\jaceb\\studia\\magisterka - sem 2\\iui\\venv\\lib\\site-packages (from spacy) (21.3)\n",
      "Requirement already satisfied: spacy-legacy<3.1.0,>=3.0.10 in c:\\users\\jaceb\\studia\\magisterka - sem 2\\iui\\venv\\lib\\site-packages (from spacy) (3.0.10)\n",
      "Requirement already satisfied: pydantic!=1.8,!=1.8.1,<1.11.0,>=1.7.4 in c:\\users\\jaceb\\studia\\magisterka - sem 2\\iui\\venv\\lib\\site-packages (from spacy) (1.10.2)\n",
      "Requirement already satisfied: typer<0.5.0,>=0.3.0 in c:\\users\\jaceb\\studia\\magisterka - sem 2\\iui\\venv\\lib\\site-packages (from spacy) (0.4.2)\n",
      "Requirement already satisfied: wasabi<1.1.0,>=0.9.1 in c:\\users\\jaceb\\studia\\magisterka - sem 2\\iui\\venv\\lib\\site-packages (from spacy) (0.10.1)\n",
      "Requirement already satisfied: pyparsing!=3.0.5,>=2.0.2 in c:\\users\\jaceb\\studia\\magisterka - sem 2\\iui\\venv\\lib\\site-packages (from packaging>=20.0->spacy) (3.0.9)\n",
      "Requirement already satisfied: smart-open<6.0.0,>=5.2.1 in c:\\users\\jaceb\\studia\\magisterka - sem 2\\iui\\venv\\lib\\site-packages (from pathy>=0.3.5->spacy) (5.2.1)\n",
      "Requirement already satisfied: typing-extensions>=4.1.0 in c:\\users\\jaceb\\studia\\magisterka - sem 2\\iui\\venv\\lib\\site-packages (from pydantic!=1.8,!=1.8.1,<1.11.0,>=1.7.4->spacy) (4.4.0)\n",
      "Requirement already satisfied: urllib3<1.27,>=1.21.1 in c:\\users\\jaceb\\studia\\magisterka - sem 2\\iui\\venv\\lib\\site-packages (from requests<3.0.0,>=2.13.0->spacy) (1.26.12)\n",
      "Requirement already satisfied: certifi>=2017.4.17 in c:\\users\\jaceb\\studia\\magisterka - sem 2\\iui\\venv\\lib\\site-packages (from requests<3.0.0,>=2.13.0->spacy) (2022.9.24)\n",
      "Requirement already satisfied: idna<4,>=2.5 in c:\\users\\jaceb\\studia\\magisterka - sem 2\\iui\\venv\\lib\\site-packages (from requests<3.0.0,>=2.13.0->spacy) (3.4)\n",
      "Requirement already satisfied: charset-normalizer<3,>=2 in c:\\users\\jaceb\\studia\\magisterka - sem 2\\iui\\venv\\lib\\site-packages (from requests<3.0.0,>=2.13.0->spacy) (2.1.1)\n",
      "Requirement already satisfied: confection<1.0.0,>=0.0.1 in c:\\users\\jaceb\\studia\\magisterka - sem 2\\iui\\venv\\lib\\site-packages (from thinc<8.2.0,>=8.1.0->spacy) (0.0.3)\n",
      "Requirement already satisfied: blis<0.8.0,>=0.7.8 in c:\\users\\jaceb\\studia\\magisterka - sem 2\\iui\\venv\\lib\\site-packages (from thinc<8.2.0,>=8.1.0->spacy) (0.7.9)\n",
      "Requirement already satisfied: colorama in c:\\users\\jaceb\\studia\\magisterka - sem 2\\iui\\venv\\lib\\site-packages (from tqdm<5.0.0,>=4.38.0->spacy) (0.4.6)\n",
      "Requirement already satisfied: click<9.0.0,>=7.1.1 in c:\\users\\jaceb\\studia\\magisterka - sem 2\\iui\\venv\\lib\\site-packages (from typer<0.5.0,>=0.3.0->spacy) (8.1.3)\n",
      "Requirement already satisfied: MarkupSafe>=2.0 in c:\\users\\jaceb\\studia\\magisterka - sem 2\\iui\\venv\\lib\\site-packages (from jinja2->spacy) (2.1.1)\n",
      "Note: you may need to restart the kernel to use updated packages.\n"
     ]
    }
   ],
   "source": [
    "pip install spacy"
   ]
  },
  {
   "cell_type": "code",
   "execution_count": 2,
   "metadata": {},
   "outputs": [
    {
     "name": "stdout",
     "output_type": "stream",
     "text": [
      "Requirement already satisfied: pandas in c:\\users\\jaceb\\studia\\magisterka - sem 2\\iui\\venv\\lib\\site-packages (1.5.1)\n",
      "Requirement already satisfied: numpy>=1.20.3 in c:\\users\\jaceb\\studia\\magisterka - sem 2\\iui\\venv\\lib\\site-packages (from pandas) (1.23.4)\n",
      "Requirement already satisfied: pytz>=2020.1 in c:\\users\\jaceb\\studia\\magisterka - sem 2\\iui\\venv\\lib\\site-packages (from pandas) (2022.6)\n",
      "Requirement already satisfied: python-dateutil>=2.8.1 in c:\\users\\jaceb\\studia\\magisterka - sem 2\\iui\\venv\\lib\\site-packages (from pandas) (2.8.2)\n",
      "Requirement already satisfied: six>=1.5 in c:\\users\\jaceb\\studia\\magisterka - sem 2\\iui\\venv\\lib\\site-packages (from python-dateutil>=2.8.1->pandas) (1.16.0)\n",
      "Note: you may need to restart the kernel to use updated packages.\n"
     ]
    }
   ],
   "source": [
    "pip install pandas"
   ]
  },
  {
   "cell_type": "code",
   "execution_count": 3,
   "metadata": {},
   "outputs": [
    {
     "name": "stdout",
     "output_type": "stream",
     "text": [
      "Collecting https://github.com/explosion/spacy-models/releases/download/pl_core_news_lg-3.4.0/pl_core_news_lg-3.4.0.tar.gzNote: you may need to restart the kernel to use updated packages.\n",
      "\n",
      "  Downloading https://github.com/explosion/spacy-models/releases/download/pl_core_news_lg-3.4.0/pl_core_news_lg-3.4.0.tar.gz (573.6 MB)\n",
      "     -------------------------------------- 573.6/573.6 MB 3.4 MB/s eta 0:00:00\n",
      "  Preparing metadata (setup.py): started\n",
      "  Preparing metadata (setup.py): finished with status 'done'\n",
      "Requirement already satisfied: spacy<3.5.0,>=3.4.0 in c:\\users\\jaceb\\studia\\magisterka - sem 2\\iui\\venv\\lib\\site-packages (from pl-core-news-lg==3.4.0) (3.4.2)\n",
      "Requirement already satisfied: catalogue<2.1.0,>=2.0.6 in c:\\users\\jaceb\\studia\\magisterka - sem 2\\iui\\venv\\lib\\site-packages (from spacy<3.5.0,>=3.4.0->pl-core-news-lg==3.4.0) (2.0.8)\n",
      "Requirement already satisfied: preshed<3.1.0,>=3.0.2 in c:\\users\\jaceb\\studia\\magisterka - sem 2\\iui\\venv\\lib\\site-packages (from spacy<3.5.0,>=3.4.0->pl-core-news-lg==3.4.0) (3.0.8)\n",
      "Requirement already satisfied: typer<0.5.0,>=0.3.0 in c:\\users\\jaceb\\studia\\magisterka - sem 2\\iui\\venv\\lib\\site-packages (from spacy<3.5.0,>=3.4.0->pl-core-news-lg==3.4.0) (0.4.2)\n",
      "Requirement already satisfied: packaging>=20.0 in c:\\users\\jaceb\\studia\\magisterka - sem 2\\iui\\venv\\lib\\site-packages (from spacy<3.5.0,>=3.4.0->pl-core-news-lg==3.4.0) (21.3)\n",
      "Requirement already satisfied: langcodes<4.0.0,>=3.2.0 in c:\\users\\jaceb\\studia\\magisterka - sem 2\\iui\\venv\\lib\\site-packages (from spacy<3.5.0,>=3.4.0->pl-core-news-lg==3.4.0) (3.3.0)\n",
      "Requirement already satisfied: jinja2 in c:\\users\\jaceb\\studia\\magisterka - sem 2\\iui\\venv\\lib\\site-packages (from spacy<3.5.0,>=3.4.0->pl-core-news-lg==3.4.0) (3.1.2)\n",
      "Requirement already satisfied: srsly<3.0.0,>=2.4.3 in c:\\users\\jaceb\\studia\\magisterka - sem 2\\iui\\venv\\lib\\site-packages (from spacy<3.5.0,>=3.4.0->pl-core-news-lg==3.4.0) (2.4.5)\n",
      "Requirement already satisfied: numpy>=1.15.0 in c:\\users\\jaceb\\studia\\magisterka - sem 2\\iui\\venv\\lib\\site-packages (from spacy<3.5.0,>=3.4.0->pl-core-news-lg==3.4.0) (1.23.4)\n",
      "Requirement already satisfied: thinc<8.2.0,>=8.1.0 in c:\\users\\jaceb\\studia\\magisterka - sem 2\\iui\\venv\\lib\\site-packages (from spacy<3.5.0,>=3.4.0->pl-core-news-lg==3.4.0) (8.1.5)\n",
      "Requirement already satisfied: cymem<2.1.0,>=2.0.2 in c:\\users\\jaceb\\studia\\magisterka - sem 2\\iui\\venv\\lib\\site-packages (from spacy<3.5.0,>=3.4.0->pl-core-news-lg==3.4.0) (2.0.7)\n",
      "Requirement already satisfied: murmurhash<1.1.0,>=0.28.0 in c:\\users\\jaceb\\studia\\magisterka - sem 2\\iui\\venv\\lib\\site-packages (from spacy<3.5.0,>=3.4.0->pl-core-news-lg==3.4.0) (1.0.9)\n",
      "Requirement already satisfied: requests<3.0.0,>=2.13.0 in c:\\users\\jaceb\\studia\\magisterka - sem 2\\iui\\venv\\lib\\site-packages (from spacy<3.5.0,>=3.4.0->pl-core-news-lg==3.4.0) (2.28.1)\n",
      "Requirement already satisfied: setuptools in c:\\users\\jaceb\\studia\\magisterka - sem 2\\iui\\venv\\lib\\site-packages (from spacy<3.5.0,>=3.4.0->pl-core-news-lg==3.4.0) (65.5.1)\n",
      "Requirement already satisfied: pydantic!=1.8,!=1.8.1,<1.11.0,>=1.7.4 in c:\\users\\jaceb\\studia\\magisterka - sem 2\\iui\\venv\\lib\\site-packages (from spacy<3.5.0,>=3.4.0->pl-core-news-lg==3.4.0) (1.10.2)\n",
      "Requirement already satisfied: spacy-loggers<2.0.0,>=1.0.0 in c:\\users\\jaceb\\studia\\magisterka - sem 2\\iui\\venv\\lib\\site-packages (from spacy<3.5.0,>=3.4.0->pl-core-news-lg==3.4.0) (1.0.3)\n",
      "Requirement already satisfied: spacy-legacy<3.1.0,>=3.0.10 in c:\\users\\jaceb\\studia\\magisterka - sem 2\\iui\\venv\\lib\\site-packages (from spacy<3.5.0,>=3.4.0->pl-core-news-lg==3.4.0) (3.0.10)\n",
      "Requirement already satisfied: pathy>=0.3.5 in c:\\users\\jaceb\\studia\\magisterka - sem 2\\iui\\venv\\lib\\site-packages (from spacy<3.5.0,>=3.4.0->pl-core-news-lg==3.4.0) (0.6.2)\n",
      "Requirement already satisfied: tqdm<5.0.0,>=4.38.0 in c:\\users\\jaceb\\studia\\magisterka - sem 2\\iui\\venv\\lib\\site-packages (from spacy<3.5.0,>=3.4.0->pl-core-news-lg==3.4.0) (4.64.1)\n",
      "Requirement already satisfied: wasabi<1.1.0,>=0.9.1 in c:\\users\\jaceb\\studia\\magisterka - sem 2\\iui\\venv\\lib\\site-packages (from spacy<3.5.0,>=3.4.0->pl-core-news-lg==3.4.0) (0.10.1)\n",
      "Requirement already satisfied: pyparsing!=3.0.5,>=2.0.2 in c:\\users\\jaceb\\studia\\magisterka - sem 2\\iui\\venv\\lib\\site-packages (from packaging>=20.0->spacy<3.5.0,>=3.4.0->pl-core-news-lg==3.4.0) (3.0.9)\n",
      "Requirement already satisfied: smart-open<6.0.0,>=5.2.1 in c:\\users\\jaceb\\studia\\magisterka - sem 2\\iui\\venv\\lib\\site-packages (from pathy>=0.3.5->spacy<3.5.0,>=3.4.0->pl-core-news-lg==3.4.0) (5.2.1)\n",
      "Requirement already satisfied: typing-extensions>=4.1.0 in c:\\users\\jaceb\\studia\\magisterka - sem 2\\iui\\venv\\lib\\site-packages (from pydantic!=1.8,!=1.8.1,<1.11.0,>=1.7.4->spacy<3.5.0,>=3.4.0->pl-core-news-lg==3.4.0) (4.4.0)\n",
      "Requirement already satisfied: certifi>=2017.4.17 in c:\\users\\jaceb\\studia\\magisterka - sem 2\\iui\\venv\\lib\\site-packages (from requests<3.0.0,>=2.13.0->spacy<3.5.0,>=3.4.0->pl-core-news-lg==3.4.0) (2022.9.24)\n",
      "Requirement already satisfied: idna<4,>=2.5 in c:\\users\\jaceb\\studia\\magisterka - sem 2\\iui\\venv\\lib\\site-packages (from requests<3.0.0,>=2.13.0->spacy<3.5.0,>=3.4.0->pl-core-news-lg==3.4.0) (3.4)\n",
      "Requirement already satisfied: urllib3<1.27,>=1.21.1 in c:\\users\\jaceb\\studia\\magisterka - sem 2\\iui\\venv\\lib\\site-packages (from requests<3.0.0,>=2.13.0->spacy<3.5.0,>=3.4.0->pl-core-news-lg==3.4.0) (1.26.12)\n",
      "Requirement already satisfied: charset-normalizer<3,>=2 in c:\\users\\jaceb\\studia\\magisterka - sem 2\\iui\\venv\\lib\\site-packages (from requests<3.0.0,>=2.13.0->spacy<3.5.0,>=3.4.0->pl-core-news-lg==3.4.0) (2.1.1)\n",
      "Requirement already satisfied: confection<1.0.0,>=0.0.1 in c:\\users\\jaceb\\studia\\magisterka - sem 2\\iui\\venv\\lib\\site-packages (from thinc<8.2.0,>=8.1.0->spacy<3.5.0,>=3.4.0->pl-core-news-lg==3.4.0) (0.0.3)\n",
      "Requirement already satisfied: blis<0.8.0,>=0.7.8 in c:\\users\\jaceb\\studia\\magisterka - sem 2\\iui\\venv\\lib\\site-packages (from thinc<8.2.0,>=8.1.0->spacy<3.5.0,>=3.4.0->pl-core-news-lg==3.4.0) (0.7.9)\n",
      "Requirement already satisfied: colorama in c:\\users\\jaceb\\studia\\magisterka - sem 2\\iui\\venv\\lib\\site-packages (from tqdm<5.0.0,>=4.38.0->spacy<3.5.0,>=3.4.0->pl-core-news-lg==3.4.0) (0.4.6)\n",
      "Requirement already satisfied: click<9.0.0,>=7.1.1 in c:\\users\\jaceb\\studia\\magisterka - sem 2\\iui\\venv\\lib\\site-packages (from typer<0.5.0,>=0.3.0->spacy<3.5.0,>=3.4.0->pl-core-news-lg==3.4.0) (8.1.3)\n",
      "Requirement already satisfied: MarkupSafe>=2.0 in c:\\users\\jaceb\\studia\\magisterka - sem 2\\iui\\venv\\lib\\site-packages (from jinja2->spacy<3.5.0,>=3.4.0->pl-core-news-lg==3.4.0) (2.1.1)\n",
      "Installing collected packages: pl-core-news-lg\n",
      "  Running setup.py install for pl-core-news-lg: started\n",
      "  Running setup.py install for pl-core-news-lg: finished with status 'done'\n",
      "Successfully installed pl-core-news-lg-3.4.0\n"
     ]
    },
    {
     "name": "stderr",
     "output_type": "stream",
     "text": [
      "  DEPRECATION: pl-core-news-lg is being installed using the legacy 'setup.py install' method, because it does not have a 'pyproject.toml' and the 'wheel' package is not installed. pip 23.1 will enforce this behaviour change. A possible replacement is to enable the '--use-pep517' option. Discussion can be found at https://github.com/pypa/pip/issues/8559\n"
     ]
    }
   ],
   "source": [
    "pip install \"https://github.com/explosion/spacy-models/releases/download/pl_core_news_lg-3.4.0/pl_core_news_lg-3.4.0.tar.gz\""
   ]
  },
  {
   "cell_type": "code",
   "execution_count": 4,
   "metadata": {},
   "outputs": [
    {
     "name": "stdout",
     "output_type": "stream",
     "text": [
      "Collecting minisom\n",
      "  Downloading MiniSom-2.3.0.tar.gz (8.8 kB)\n",
      "  Preparing metadata (setup.py): started\n",
      "  Preparing metadata (setup.py): finished with status 'done'\n",
      "Installing collected packages: minisom\n",
      "  Running setup.py install for minisom: started\n",
      "  Running setup.py install for minisom: finished with status 'done'\n",
      "Successfully installed minisom-2.3.0\n",
      "Note: you may need to restart the kernel to use updated packages.\n"
     ]
    },
    {
     "name": "stderr",
     "output_type": "stream",
     "text": [
      "  DEPRECATION: minisom is being installed using the legacy 'setup.py install' method, because it does not have a 'pyproject.toml' and the 'wheel' package is not installed. pip 23.1 will enforce this behaviour change. A possible replacement is to enable the '--use-pep517' option. Discussion can be found at https://github.com/pypa/pip/issues/8559\n"
     ]
    }
   ],
   "source": [
    "pip install minisom"
   ]
  },
  {
   "cell_type": "code",
   "execution_count": 5,
   "metadata": {},
   "outputs": [
    {
     "name": "stdout",
     "output_type": "stream",
     "text": [
      "Collecting scikit-learn\n",
      "  Downloading scikit_learn-1.2.0-cp39-cp39-win_amd64.whl (8.3 MB)\n",
      "     ---------------------------------------- 8.3/8.3 MB 5.8 MB/s eta 0:00:00\n",
      "Collecting scipy>=1.3.2\n",
      "  Downloading scipy-1.10.0-cp39-cp39-win_amd64.whl (42.5 MB)\n",
      "     ---------------------------------------- 42.5/42.5 MB 6.6 MB/s eta 0:00:00\n",
      "Collecting joblib>=1.1.1\n",
      "  Downloading joblib-1.2.0-py3-none-any.whl (297 kB)\n",
      "     -------------------------------------- 298.0/298.0 kB 6.1 MB/s eta 0:00:00\n",
      "Requirement already satisfied: numpy>=1.17.3 in c:\\users\\jaceb\\studia\\magisterka - sem 2\\iui\\venv\\lib\\site-packages (from scikit-learn) (1.23.4)\n",
      "Collecting threadpoolctl>=2.0.0\n",
      "  Using cached threadpoolctl-3.1.0-py3-none-any.whl (14 kB)\n",
      "Installing collected packages: threadpoolctl, scipy, joblib, scikit-learn\n",
      "Successfully installed joblib-1.2.0 scikit-learn-1.2.0 scipy-1.10.0 threadpoolctl-3.1.0\n",
      "Note: you may need to restart the kernel to use updated packages.\n"
     ]
    }
   ],
   "source": [
    "pip install scikit-learn"
   ]
  },
  {
   "cell_type": "code",
   "execution_count": 6,
   "metadata": {},
   "outputs": [
    {
     "name": "stdout",
     "output_type": "stream",
     "text": [
      "Collecting gensim\n",
      "  Downloading gensim-4.3.0-cp39-cp39-win_amd64.whl (24.0 MB)\n",
      "     ---------------------------------------- 24.0/24.0 MB 8.7 MB/s eta 0:00:00\n",
      "Requirement already satisfied: smart-open>=1.8.1 in c:\\users\\jaceb\\studia\\magisterka - sem 2\\iui\\venv\\lib\\site-packages (from gensim) (5.2.1)\n",
      "Requirement already satisfied: numpy>=1.18.5 in c:\\users\\jaceb\\studia\\magisterka - sem 2\\iui\\venv\\lib\\site-packages (from gensim) (1.23.4)\n",
      "Collecting Cython==0.29.32\n",
      "  Downloading Cython-0.29.32-py2.py3-none-any.whl (986 kB)\n",
      "     -------------------------------------- 986.3/986.3 kB 7.8 MB/s eta 0:00:00\n",
      "Collecting FuzzyTM>=0.4.0\n",
      "  Downloading FuzzyTM-2.0.5-py3-none-any.whl (29 kB)\n",
      "Requirement already satisfied: scipy>=1.7.0 in c:\\users\\jaceb\\studia\\magisterka - sem 2\\iui\\venv\\lib\\site-packages (from gensim) (1.10.0)\n",
      "Requirement already satisfied: pandas in c:\\users\\jaceb\\studia\\magisterka - sem 2\\iui\\venv\\lib\\site-packages (from FuzzyTM>=0.4.0->gensim) (1.5.1)\n",
      "Collecting pyfume\n",
      "  Downloading pyFUME-0.2.25-py3-none-any.whl (67 kB)\n",
      "     ---------------------------------------- 67.1/67.1 kB 3.8 MB/s eta 0:00:00\n",
      "Requirement already satisfied: python-dateutil>=2.8.1 in c:\\users\\jaceb\\studia\\magisterka - sem 2\\iui\\venv\\lib\\site-packages (from pandas->FuzzyTM>=0.4.0->gensim) (2.8.2)\n",
      "Requirement already satisfied: pytz>=2020.1 in c:\\users\\jaceb\\studia\\magisterka - sem 2\\iui\\venv\\lib\\site-packages (from pandas->FuzzyTM>=0.4.0->gensim) (2022.6)\n",
      "Collecting fst-pso\n",
      "  Downloading fst-pso-1.8.1.tar.gz (18 kB)\n",
      "  Preparing metadata (setup.py): started\n",
      "  Preparing metadata (setup.py): finished with status 'done'\n",
      "Collecting simpful\n",
      "  Downloading simpful-2.9.0-py3-none-any.whl (30 kB)\n",
      "Requirement already satisfied: six>=1.5 in c:\\users\\jaceb\\studia\\magisterka - sem 2\\iui\\venv\\lib\\site-packages (from python-dateutil>=2.8.1->pandas->FuzzyTM>=0.4.0->gensim) (1.16.0)\n",
      "Collecting miniful\n",
      "  Downloading miniful-0.0.6.tar.gz (2.8 kB)\n",
      "  Preparing metadata (setup.py): started\n",
      "  Preparing metadata (setup.py): finished with status 'done'\n",
      "Requirement already satisfied: requests in c:\\users\\jaceb\\studia\\magisterka - sem 2\\iui\\venv\\lib\\site-packages (from simpful->pyfume->FuzzyTM>=0.4.0->gensim) (2.28.1)\n",
      "Requirement already satisfied: idna<4,>=2.5 in c:\\users\\jaceb\\studia\\magisterka - sem 2\\iui\\venv\\lib\\site-packages (from requests->simpful->pyfume->FuzzyTM>=0.4.0->gensim) (3.4)\n",
      "Requirement already satisfied: certifi>=2017.4.17 in c:\\users\\jaceb\\studia\\magisterka - sem 2\\iui\\venv\\lib\\site-packages (from requests->simpful->pyfume->FuzzyTM>=0.4.0->gensim) (2022.9.24)\n",
      "Requirement already satisfied: charset-normalizer<3,>=2 in c:\\users\\jaceb\\studia\\magisterka - sem 2\\iui\\venv\\lib\\site-packages (from requests->simpful->pyfume->FuzzyTM>=0.4.0->gensim) (2.1.1)\n",
      "Requirement already satisfied: urllib3<1.27,>=1.21.1 in c:\\users\\jaceb\\studia\\magisterka - sem 2\\iui\\venv\\lib\\site-packages (from requests->simpful->pyfume->FuzzyTM>=0.4.0->gensim) (1.26.12)\n",
      "Installing collected packages: Cython, simpful, miniful, fst-pso, pyfume, FuzzyTM, gensim\n",
      "  Running setup.py install for miniful: started\n",
      "  Running setup.py install for miniful: finished with status 'done'\n",
      "  Running setup.py install for fst-pso: started\n",
      "  Running setup.py install for fst-pso: finished with status 'done'\n",
      "Successfully installed Cython-0.29.32 FuzzyTM-2.0.5 fst-pso-1.8.1 gensim-4.3.0 miniful-0.0.6 pyfume-0.2.25 simpful-2.9.0\n",
      "Note: you may need to restart the kernel to use updated packages.\n"
     ]
    },
    {
     "name": "stderr",
     "output_type": "stream",
     "text": [
      "  DEPRECATION: miniful is being installed using the legacy 'setup.py install' method, because it does not have a 'pyproject.toml' and the 'wheel' package is not installed. pip 23.1 will enforce this behaviour change. A possible replacement is to enable the '--use-pep517' option. Discussion can be found at https://github.com/pypa/pip/issues/8559\n",
      "  DEPRECATION: fst-pso is being installed using the legacy 'setup.py install' method, because it does not have a 'pyproject.toml' and the 'wheel' package is not installed. pip 23.1 will enforce this behaviour change. A possible replacement is to enable the '--use-pep517' option. Discussion can be found at https://github.com/pypa/pip/issues/8559\n"
     ]
    }
   ],
   "source": [
    "pip install gensim"
   ]
  },
  {
   "cell_type": "code",
   "execution_count": 7,
   "metadata": {},
   "outputs": [
    {
     "name": "stdout",
     "output_type": "stream",
     "text": [
      "Collecting stop_words\n",
      "  Downloading stop-words-2018.7.23.tar.gz (31 kB)\n",
      "  Preparing metadata (setup.py): started\n",
      "  Preparing metadata (setup.py): finished with status 'done'\n",
      "Installing collected packages: stop_words\n",
      "  Running setup.py install for stop_words: started\n",
      "  Running setup.py install for stop_words: finished with status 'done'\n",
      "Successfully installed stop_words-2018.7.23\n",
      "Note: you may need to restart the kernel to use updated packages.\n"
     ]
    },
    {
     "name": "stderr",
     "output_type": "stream",
     "text": [
      "  DEPRECATION: stop_words is being installed using the legacy 'setup.py install' method, because it does not have a 'pyproject.toml' and the 'wheel' package is not installed. pip 23.1 will enforce this behaviour change. A possible replacement is to enable the '--use-pep517' option. Discussion can be found at https://github.com/pypa/pip/issues/8559\n"
     ]
    }
   ],
   "source": [
    "pip install stop_words"
   ]
  },
  {
   "cell_type": "code",
   "execution_count": null,
   "metadata": {},
   "outputs": [],
   "source": []
  }
 ],
 "metadata": {
  "kernelspec": {
   "display_name": "Python 3 (ipykernel)",
   "language": "python",
   "name": "python3"
  },
  "language_info": {
   "codemirror_mode": {
    "name": "ipython",
    "version": 3
   },
   "file_extension": ".py",
   "mimetype": "text/x-python",
   "name": "python",
   "nbconvert_exporter": "python",
   "pygments_lexer": "ipython3",
   "version": "3.9.13"
  },
  "vscode": {
   "interpreter": {
    "hash": "867381b69202c7e0c85d8bb1ba870abb3956b598787bedfe15df5441b3066f1b"
   }
  }
 },
 "nbformat": 4,
 "nbformat_minor": 2
}
