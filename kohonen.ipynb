{
 "cells": [
  {
   "cell_type": "code",
   "execution_count": 2,
   "metadata": {},
   "outputs": [],
   "source": [
    "import pandas as pd\n",
    "import numpy as np\n",
    "import matplotlib.pyplot as plt\n",
    "%matplotlib inline\n",
    "from collections import OrderedDict"
   ]
  },
  {
   "cell_type": "code",
   "execution_count": 145,
   "metadata": {},
   "outputs": [
    {
     "data": {
      "text/plain": [
       "prawo cywilne            ['remontowobudowlane', 'przedawnieniu', 'weksl...\n",
       "prawo administracyjne    ['bankowych', 'budowlane', 'wywieszenie', 'nie...\n",
       "prawo farmaceutyczne     ['dostępny', 'terenie', 'gifu', 'wzoru', 'iwyc...\n",
       "prawo pracy              ['odprawy', 'zaległy', 'pracownicę', 'równoważ...\n",
       "prawo medyczne           ['wyglądają', 'wyraził', 'ponad', 'najniższego...\n",
       "prawo karne              ['płyty', 'pieniądze', 'dobrowolnej', 'zapobie...\n",
       "prawo miädzynarodowe     ['udzielać', 'rękawice', 'już', 'bezpieczeństw...\n",
       "prawo podatkowe          ['kwoty', 'leki', 'wstecz', 'fakturze', 'nacze...\n",
       "prawo konstytucyjne       ['wyjść', 'powrocie', 'konstytucją', 'przepisy']\n",
       "Name: 0, dtype: object"
      ]
     },
     "execution_count": 145,
     "metadata": {},
     "output_type": "execute_result"
    }
   ],
   "source": [
    "data = pd.read_csv(\"data/unique_result.csv\")\n",
    "data = pd.DataFrame.transpose(data)\n",
    "data = data.iloc[1:10][0]\n",
    "data"
   ]
  },
  {
   "cell_type": "code",
   "execution_count": 107,
   "metadata": {},
   "outputs": [],
   "source": [
    "# data = []\n",
    "# f = open('data/result-list.txt', 'r',encoding='utf-8')\n",
    "# if f.mode=='r':\n",
    "#     data= f.read()"
   ]
  },
  {
   "attachments": {},
   "cell_type": "markdown",
   "metadata": {},
   "source": [
    "Get Glove (https://github.com/sdadas/polish-nlp-resources#glove)"
   ]
  },
  {
   "cell_type": "code",
   "execution_count": 117,
   "metadata": {},
   "outputs": [],
   "source": [
    "from gensim.models import KeyedVectors\n",
    "glove = KeyedVectors.load_word2vec_format(\"data/glove_100_3_polish.txt\")\n",
    "\n",
    "def closest_word(in_vector, top_n=1):\n",
    "    vectors = glove.values()\n",
    "    idx = np.argsort([np.linalg.norm(vec-in_vector) for vec in vectors])\n",
    "    return [glove.keys()[i] for i in idx[:top_n]]"
   ]
  },
  {
   "cell_type": "code",
   "execution_count": 116,
   "metadata": {},
   "outputs": [],
   "source": [
    "def vectorize_tokens(tokens):\n",
    "    words = [w for w in tokens if w is not None and w != ' ']\n",
    "    return np.array([glove.get_vector(w) for w in words])"
   ]
  },
  {
   "cell_type": "code",
   "execution_count": 193,
   "metadata": {},
   "outputs": [
    {
     "name": "stdout",
     "output_type": "stream",
     "text": [
      "[-0.756483 -0.156726  0.240969 -0.108245 -0.722698  1.690118 -0.705028\n",
      "  0.433565 -0.372361 -3.256995  0.735486  0.854555  0.436465 -0.219439\n",
      " -0.547062  1.285207 -0.759291 -0.464965 -0.765004  0.519478  0.802678\n",
      " -0.296283 -0.391004  0.378582  0.083068  0.993235  0.975976 -0.172345\n",
      "  0.015326  0.765349 -0.026912 -0.568081 -0.66198   1.364534 -0.767949\n",
      " -0.720543 -0.431987 -0.019625  0.328186  0.521793 -0.622683  1.051005\n",
      "  0.850165  0.334909  0.398969  0.261463  0.352421  0.007351  0.180869\n",
      " -0.192186  1.177872  0.17856   0.071584  0.06415  -0.454957  0.096224\n",
      "  0.153221  0.043652  0.263161 -0.147932 -1.221667 -0.599179 -0.050714\n",
      "  0.133675 -0.844797 -0.778254  0.562199 -0.181419  0.059016 -0.442529\n",
      " -0.131058 -1.192368  0.308126  0.305352  0.405265 -0.245622  0.763016\n",
      " -0.460105 -0.447609 -0.057151  0.187172 -0.199389  0.446935  0.138435\n",
      "  0.425581 -0.280209 -0.129192 -0.39582  -0.262552 -0.046351  0.078262\n",
      "  0.389644  0.554389  0.369812  0.240357  0.918529 -0.016188  0.635542\n",
      " -0.068323 -0.945587]\n"
     ]
    }
   ],
   "source": [
    "print(glove.get_vector('konstytucja'))"
   ]
  },
  {
   "cell_type": "code",
   "execution_count": 132,
   "metadata": {},
   "outputs": [
    {
     "data": {
      "text/plain": [
       "array([[-0.02240876,  0.00103112,  0.30629843, ..., -0.33404028,\n",
       "         0.24884836, -0.10096144],\n",
       "       [-0.01469646, -0.02268776,  0.3137705 , ..., -0.33499673,\n",
       "         0.2711538 , -0.10704955],\n",
       "       [-0.01873532, -0.02716664,  0.30500734, ..., -0.30655718,\n",
       "         0.27380675, -0.08595166],\n",
       "       ...,\n",
       "       [-0.03599441,  0.03761097,  0.35449794, ..., -0.27408904,\n",
       "         0.32724217, -0.13635813],\n",
       "       [-0.02999772,  0.01076369,  0.31258196, ..., -0.34743702,\n",
       "         0.22806954, -0.11999498],\n",
       "       [-0.22422324,  0.0524814 ,  0.23943682, ..., -0.2932328 ,\n",
       "         0.28405055, -0.1285887 ]], dtype=float32)"
      ]
     },
     "execution_count": 132,
     "metadata": {},
     "output_type": "execute_result"
    }
   ],
   "source": [
    "colors = OrderedDict({\n",
    "    'prawo cywilne':'orange',\n",
    "    'prawo administracyjne':'red',\n",
    "    'prawo farmaceutyczne':'blue',\n",
    "    'prawo pracy':'green',\n",
    "    'prawo medyczne':'cyan',\n",
    "    'prawo karne':'brown',\n",
    "    'prawo miädzynarodowe':'black',\n",
    "    'prawo podatkowe':'purple',\n",
    "    'prawo konstytucyjne':'grey'\n",
    "})\n",
    "speechPartNames = list(colors.keys())\n",
    "W = [vectorize_tokens(tokenized).mean(axis=0) for tokenized in data]\n",
    "W = np.array(W)\n",
    "W"
   ]
  },
  {
   "cell_type": "code",
   "execution_count": 122,
   "metadata": {},
   "outputs": [],
   "source": [
    "from minisom import MiniSom"
   ]
  },
  {
   "cell_type": "code",
   "execution_count": 201,
   "metadata": {},
   "outputs": [
    {
     "name": "stdout",
     "output_type": "stream",
     "text": [
      " [ 5500 / 5500 ] 100% - 0:00:00 left \n",
      " quantization error: 9.507630585730001e-05\n"
     ]
    }
   ],
   "source": [
    "map_dim = 20\n",
    "som = MiniSom(map_dim, map_dim, 100, sigma=1.0, random_seed=1)\n",
    "# som.random_weights_init(W)\n",
    "som.train_batch(W, num_iteration=len(W)*500, verbose=True)"
   ]
  },
  {
   "cell_type": "code",
   "execution_count": 202,
   "metadata": {},
   "outputs": [],
   "source": [
    "from string import punctuation\n",
    "import stop_words\n",
    "stopwords = stop_words.get_stop_words('polish')\n",
    "def clearListFromUselessWords(words: list):\n",
    "    for sign in punctuation:\n",
    "        if sign in words:\n",
    "            words.remove(sign)\n",
    "    tokens = [t for t in words if t not in stopwords and t != '']\n",
    "    return tokens"
   ]
  },
  {
   "cell_type": "code",
   "execution_count": 1,
   "metadata": {},
   "outputs": [
    {
     "ename": "NameError",
     "evalue": "name 'colors' is not defined",
     "output_type": "error",
     "traceback": [
      "\u001b[1;31m---------------------------------------------------------------------------\u001b[0m",
      "\u001b[1;31mNameError\u001b[0m                                 Traceback (most recent call last)",
      "Cell \u001b[1;32mIn [1], line 4\u001b[0m\n\u001b[0;32m      2\u001b[0m \u001b[39mfrom\u001b[39;00m \u001b[39mmatplotlib\u001b[39;00m\u001b[39m.\u001b[39;00m\u001b[39mpatches\u001b[39;00m \u001b[39mimport\u001b[39;00m Patch\n\u001b[0;32m      3\u001b[0m legend_elements \u001b[39m=\u001b[39m []\n\u001b[1;32m----> 4\u001b[0m \u001b[39mfor\u001b[39;00m index,color \u001b[39min\u001b[39;00m \u001b[39menumerate\u001b[39m(colors):\n\u001b[0;32m      5\u001b[0m     c \u001b[39m=\u001b[39m \u001b[39mlist\u001b[39m(colors\u001b[39m.\u001b[39mvalues())[index]\n\u001b[0;32m      6\u001b[0m     l \u001b[39m=\u001b[39m \u001b[39mlist\u001b[39m(colors\u001b[39m.\u001b[39mkeys())[index]\n",
      "\u001b[1;31mNameError\u001b[0m: name 'colors' is not defined"
     ]
    }
   ],
   "source": [
    "import ast\n",
    "from matplotlib.patches import Patch\n",
    "legend_elements = []\n",
    "for index,color in enumerate(colors):\n",
    "    c = list(colors.values())[index]\n",
    "    l = list(colors.keys())[index]\n",
    "    legend_elements.append(Patch(facecolor=c, edgecolor='black',label=l))\n",
    "plt.figure(figsize=(20, 20))\n",
    "texts = []\n",
    "skippedWords = 0\n",
    "allWords = 0\n",
    "for index, affair in enumerate(data.keys()):\n",
    "    words = ast.literal_eval(data[affair])\n",
    "    words = clearListFromUselessWords(words)\n",
    "    c = list(colors.values())[index]\n",
    "    allWords += len(words)\n",
    "    for word in words:\n",
    "        try:\n",
    "            vec = glove.get_vector(word)\n",
    "            winnin_position = som.winner(vec)\n",
    "            texts.append(plt.text((winnin_position[0]+np.random.rand()*.9)%map_dim, (winnin_position[1]+np.random.rand()*.9)%map_dim, word, color=c))\n",
    "        except:\n",
    "            skippedWords +=1\n",
    "            \n",
    "print(\"Did not find {}/{} words in the GloVe database, could not estimate it's vector\".format(skippedWords,allWords))\n",
    "plt.legend(handles=legend_elements, loc='upper left')\n",
    "plt.xticks(range(map_dim))\n",
    "plt.yticks(range(map_dim))\n",
    "plt.grid()\n",
    "plt.xlim([0, map_dim])\n",
    "plt.ylim([0, map_dim])\n",
    "plt.plot()"
   ]
  }
 ],
 "metadata": {
  "kernelspec": {
   "display_name": "Python 3",
   "language": "python",
   "name": "python3"
  },
  "language_info": {
   "codemirror_mode": {
    "name": "ipython",
    "version": 3
   },
   "file_extension": ".py",
   "mimetype": "text/x-python",
   "name": "python",
   "nbconvert_exporter": "python",
   "pygments_lexer": "ipython3",
   "version": "3.9.0 (tags/v3.9.0:9cf6752, Oct  5 2020, 15:34:40) [MSC v.1927 64 bit (AMD64)]"
  },
  "orig_nbformat": 4,
  "vscode": {
   "interpreter": {
    "hash": "867381b69202c7e0c85d8bb1ba870abb3956b598787bedfe15df5441b3066f1b"
   }
  }
 },
 "nbformat": 4,
 "nbformat_minor": 2
}
