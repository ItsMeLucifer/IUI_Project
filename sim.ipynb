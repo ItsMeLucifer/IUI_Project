{
    "cells": [
        {
            "cell_type": "code",
            "execution_count": 11,
            "metadata": {},
            "outputs": [],
            "source": [
                "from gensim.models import KeyedVectors\n",
                "glove = KeyedVectors.load_word2vec_format(\"data/glove_300_3_polish.txt\")\n",
                "\n"
            ]
        },
        {
            "cell_type": "code",
            "execution_count": 14,
            "metadata": {},
            "outputs": [],
            "source": [
                "import pandas as pd\n",
                "import random\n",
                "import numpy as np"
            ]
        },
        {
            "cell_type": "code",
            "execution_count": 3,
            "metadata": {},
            "outputs": [],
            "source": [
                "words={\n",
                "\"prawo cywilne\":['czynsz', 'parkingowe', 'komandytowej', 'eksploatacyjna', 'powiększenie', 'siostra', 'wynajmował', 'hipoteki', 'głosu', 'sprawdzić', 'partnerską', 'właścicielowi', 'miasta', 'celowy', 'sporządzone', 'głosów', 'dokonania', 'sporządzona', 'babci', 'rozprawie', 'własność', 'grzejnik', 'umorzenie', 'darowizną', 'prawie', 'otrzymane', 'partycypacji', 'uchwałą', 'pozwany', 'spadkowe', 'rozwodowej', 'przedmiotowych', 'potrzebne', 'określił', 'ewentualnego', 'gruntowej', 'koniec', 'wspólnikiem', 'prądu', 'obligują', 'komornika', 'znajdujące', 'dobrodziejstwem', 'deweloper', 'zasadnym', 'zniesienia', 'własności', 'podpisuje', 'okazjonalnego', 'śmierci', 'większość', 'wymienić', 'wówczas', 'sądowego', 'rozpatrzenie', 'inwentarza', 'udziałów', 'skan', 'ustanowienia', 'byłej', 'zaliczka', 'właścicielami', 'testamentu', 'rozwodu', 'dokonanie', 'sądowe', 'wody', 'pozostałymi', 'gazu', 'poniesionych', 'całości', 'doręczenie', 'długów', 'małżeński', 'podjęta', 'korzysta', 'hali', 'właściciela', 'zebraniu', 'skarbu', 'własnością', 'pojazdu', 'eksmisji', 'notarialnego', 'stosownej', 'prośbą', 'ogrzewania', 'spłacić', 'doprowadzić', 'opłaty', 'wchodzi', 'duża', 'przedawnieniu', 'ustanowienie', 'procesowego', 'rzeczoznawca', 'remontowego', 'uchwał', 'współmałżonku', 'doręczone', 'metra', 'ogrzewanie', 'podwyżkę', 'interesy', 'zasadzie', 'podejmowanie', 'konieczny', 'postanowienie', 'samochody', 'przekazania', 'paneli', 'negatywnymi', 'odziedziczeniem', 'koszt', 'pełnomocnictwo', 'odziedziczone', 'wjazdu', 'zajętych', 'długi', 'bratu', 'remontowym', 'piwnicy', 'małżonki', 'mieszkaniową', 'długoterminowo', 'współwłasności', 'zasadna', 'testamentowe', 'utrzymania', 'zachowek', 'elektronicznego', 'sióstr', 'dojazdu', 'odziedziczy', 'będącej', 'ugody', 'współwłaścicielami', 'zarejestrowania', 'długu', 'zgadza', 'osobie', 'podzielić', 'przedawniają', 'częściach', 'komórki', 'zmianą', 'ponownie', 'woda', 'mieszkaniu', 'absolutorium', 'liczników', 'alimenty', 'uwzględnić', 'remontowobudowlane', 'drodze', 'energii', 'majątkiem', 'pani', 'ubieganie', 'zasadne', 'obligacje', 'dziedziczenie', 'elementy', 'darowizny', 'ponoszenia', 'wyrazi', 'wyrażenie', 'komornik', 'wejść', 'internetu', 'czynszu', 'polisa', 'spadkową', 'użytkowego', 'wstecznym', 'zysków', 'odrzucić', 'najszybciej', 'należącym', 'sądową', 'matkę', 'wydziedziczenie', 'podwyżki', 'uchwała', 'ograniczoną', 'nabył', 'dzierżawy', 'instytucja', 'raty', 'darowiznę', 'masy', 'przebiegało', 'remontowy', 'służebności', 'pozostałych', 'spadek', 'księdze', 'zmarłym', 'jednoosobowego', 'instalacji', 'pomieszczenie', 'możliwym', 'opłatach', 'mieszkań', 'dłużnika', 'wyszczególnione', 'remont', 'sporządzony', 'wspólnotę', 'wierzytelności', 'remontowobudowlanych', 'zasiedzenie', 'skutek', 'dotyczący', 'nakładów', 'obciążonej', 'skrzynki', 'sprawa', 'wspólnego', 'synowie', 'oddanych', 'płatność', 'opłata', 'dokument', 'otwarciu', 'ubezpieczeń', 'darowizn', 'odrzucenia', 'synowi', 'matki', 'dotyczącą', 'dachu', 'ruchomości', 'skutkować', 'ocieplenia', 'nieruchomością', 'rozwód', 'spadkiem', 'uiszczać', 'zarządcy', 'stwierdzenie', 'odpowiedzialnością', 'zarządowi', 'opodatkowanie', 'proces', 'internet', 'zamki', 'wady', 'wynajmującego', 'partner', 'niekorzystne', 'regulować', 'najemcy', 'kolejne', 'zawierają', 'likwidatora', 'parkingowych', 'indywidualnego', 'balkonu', 'dostęp', 'dzieje', 'najemca', 'lokalach', 'dokonane', 'interwenienta', 'notarialnych', 'elektrycznej', 'dokonała', 'krs', 'wieczystej', 'upominawczym', 'rozporządzać', 'notariuszowi', 'możliwy', 'pełnoletnie', 'krewnej', 'spadkobiercom', 'prac', 'założenie', 'koniecznym', 'podatkowych', 'poręczyciel', 'dokumentu', 'członkowie', 'cenę', 'pozwu', 'później', 'kamienicy', 'córce', 'szacowana', 'uprawniona', 'najmu', 'współwłaścicieli', 'spadkowego', 'x', 'napisać', 'większością', 'prawidłowy', 'przesyłu', 'zgromadzenia', 'wyprowadzić', 'widnieje', 'osobistej', 'podjęcie', 'zużycie', 'notariuszem', 'listę', 'uzyskiwanych', 'odpowiadać', 'egzekucyjnych', 'datę', 'adresu', 'rodzina', 'obecnych', 'zobowiązuje', 'przebiega', 'składowe', 'alimentów', 'majątkowy', 'przelewu', 'hipoteką', 'przekształcić', 'księgi', 'zbierania', 'remontu', 'apelację', 'winien', 'małoletnich', 'odziedziczyć', 'kredyt', 'powstałe', 'polega', 'podział', 'balkonów', 'nowy', 'ubocznego', 'ubezwłasnowolnienia', 'spadkodawcy', 'teściowa', 'sumy', 'byłą', 'podziału', 'uwagę', 'zaliczki', 'koniecznej', 'gruntu', 'niezgodnych', 'siostrze', 'umorzeniu', 'rzeczy', 'kupna', 'wspólnej', 'ewentualnych', 'przedwstępnej', 'gruntową', 'zakup', 'pozostawionych', 'złożony', 'zachowku', 'małżonków', 'potwierdzeń', 'pomoc', 'dziedziczyć', 'umowne', 'właścicielka', 'nazwiska', 'płacenia', 'uzasadnić', 'oszacuje', 'właścicielce', 'krąg', 'dziedziczył', 'zarządca', 'przedmiotową', 'formularzu', 'spłaty', 'majątek', 'centralne', 'przychodów', 'konsekwencjami', 'potrzebuje', 'naprawy', 'wynajmujący', 'darowanie', 'wpisu', 'formalne', 'zebrania', 'stropu', 'lokali', 'pierwsze', 'sądzie', 'państwa', 'pozew', 'wprowadzenie', 'synowej', 'wypełnić', 'rachunków', 'powołaniu', 'uchwałę', 'syn', 'osiedla', 'wspólnych', 'weksla', 'zarządcę', 'kwot', 'poszczególnych', 'rozwodzie', 'nabywców', 'kosztach', 'służebnością', 'płaci', 'dokonaniem', 'zebranie', 'nieobecność', 'spadkobiercy', 'notariusza', 'związek', 'dalszego', 'różnica', 'obejmującą', 'dział', 'sądowa', 'zażądać', 'ojczym', 'reprezentowany', 'działkę', 'sądowych', 'procesu', 'konto', 'email', 'spadkobiercą', 'końca', 'pobierać', 'spadku', 'dziedziczenia', 'opodatkowaniu', 'odczytu', 'poprzedniej', 'zarząd', 'pełnomocnictwa', 'spadkobierców', 'testamentowego', 'garażowej', 'skutkuje', 'skład', 'kar', 'wezwaniu', 'spadkowej', 'wnioski', 'poniesione', 'odrzuci', 'ustalić', 'uiszczenia', 'zasiedzenia', 'testament', 'kolejności', 'sądowej', 'korzystanie', 'skutkiem', 'ojcu', 'notarialnej', 'świadków', 'spadkobierca', 'wartość', 'uprawnione', 'mama', 'chcą', 'uchwały'],\n",
                "\"prawo administracyjne\":['budowę', 'odstąpić', 'wpływają', 'portalu', 'kont', 'internecie', 'anonimizowania', 'sąsiedniej', 'osobowe', 'przepisu', 'ograniczenia', 'znajdują', 'systemów', 'rodo', 'organ', 'wiadomości', 'pojazd', 'panipana', 'współpracuje', 'budowlanego', 'ogrodzenia', 'lot', 'zabaw', 'typu', 'niepełnosprawnych', 'salonu', 'drogowego', 'parkingowym', 'konserwatora', 'bilet', 'mieszkańców', 'pojawią', 'inspektorat', 'proporcjonalną', 'domek', 'europejskiego', 'działaniem', 'kosmetycznego', 'głos', 'osobistych', 'roboty', 'celów', 'możliwością', 'powierzenia', 'budynek', 'budowlane', 'kabinie', 'prowizji', 'posiadająca', 'architekta', 'administracyjny', 'zamierza', 'gminie', 'uniemożliwić', 'słusznie', 'dopłaty', 'gospodarstwo', 'zakupiony', 'harmonogramu', 'przeznaczoną', 'wybudować', 'użyć', 'panipanu', 'postawić', 'dóbr', 'projektu', 'zachodzi', 'granicy', 'żąda', 'działce', 'dyrektywy', 'monitoringu', 'oczekujących', 'kartę', 'ośrodka', 'projekt', 'bankowych', 'inwalidy', 'odbiór', 'przenoszenia', 'banku', 'posiadał', 'odpadów', 'wglądu', 'swobodnego', 'modelowanie', 'salon', 'udostępnienie', 'robót', 'nazwisko', 'wystarczająca', 'dopuszczalna', 'pozwolenie', 'gmina', 'sylwetki', 'rolnej', 'przetwarzaniem', 'parlamentu', 'znanylekarzpl', 'nabywane', 'obecność', 'sieci', 'wywieszenie', 'klientami', 'pomieszczenia', 'pozwolenia', 'recepcjonistka', 'obecna', 'rady', 'zmianami', 'imię', 'budowlany', 'umowach', 'zapisy', 'konsumentów', 'wideokonferencji', 'biura', 'danych', 'ukończyła', 'parkowania', 'komisji', 'zamontować', 'niepełnoletniej', 'dojazdowej', 'diagnostycznych', 'utylizację', 'domku', 'niepełnoletnia', 'zastrzec', 'karetkę', 'usunięcia', 'sporządzenia', 'niezgodne', 'wysłanym', 'opinie', 'elewacji', 'uchylenia', 'przepływu', 'krajowej', 'przesłać', 'niebędąca', 'podlegają', 'zarejestrować', 'rolną', 'zabudowy', 'przetwarzania', 'ha', 'oczerniające', 'budowlanych', 'słuszne', 'będzie', 'planowaną', 'ochronie', 'klientów', 'fizycznych', 'odstąpienia', 'zewnętrznej', 'cele', 'kolejowej', 'finansowe', 'placu', 'okna', 'związkuz', 'przekształcenie', 'oznaczyć', 'ziemi', 'wskazuje', 'zapisem', 'zabytków', 'ogólne', 'portal', 'udostępnianie', 'budowy', 'rekompensaty', 'pozwoleniu', 'polegać', 'otwierania', 'kierunek', 'ustawowym', 'listy', 'przetwarzanie', 'kierowcy', 'sposobu', 'salonie', 'pisemne', 'agencji', 'mobilny', 'osobowych', 'obraz', 'inna'],\n",
                "\"prawo farmaceutyczne\":['przerwę', 'kontroli', 'farmaceuci', 'rewersie', 'zaopatrywać', 'kody', 'zgłoszeniu', 'zapotrzebowania', 'diagnostycznym', 'jednoosobowej', 'sprzedawany', 'określać', 'zezwolenia', 'spożywczych', 'ogólnodostępna', 'zawiera', 'sprzęt', 'każdorazowo', 'założenia', 'importu', 'inspektora', 'funkcję', 'zbiorczego', 'przedmiotem', 'odpowiedzialną', 'kosmetyków', 'aptek', 'sp', 'otwarcia', 'gtu', 'wzoru', 'psychotropowe', 'letni', 'społecznościowych', 'zostać', 'rozliczeniowego', 'otc', 'hurtownie', 'właścicielskiej', 'suplementy', 'zbywać', 'handlowousługowym', 'sprowadzić', 'farmaceutycznymi', 'numerem', 'kliniczna', 'kodu', 'wysłaniem', 'metrów', 'farmacji', 'odpady', 'całego', 'zrealizować', 'mediach', 'wziąć', 'trzeba', 'kupować', 'docelowego', 'iwycofanie', 'negatywnych', 'fosforanu', 'nabywcę', 'opakowania', 'mineralną', 'odpowiadające', 'farmaceutyczny', 'rozpuścić', 'odpowiadają', 'przeznaczenia', 'zestawienia', 'refundowane', 'recepcie', 'internetową', 'punktu', 'letniego', 'hurtowni', 'prowadzącym', 'dawkę', 'recepturowego', 'obrotu', 'funkcjonowały', 'farmaceutycznej', 'przesunięć', 'drukach', 'laboratorium', 'dystrybucyjna', 'zastępcy', 'zweryfikować', 'refundowany', 'hurtownik', 'aptecznego', 'przeniesienie', 'spożywcze', 'witaminowe', 'uprawnień', 'nabycie', 'książkę', 'refundacji', 'farmaceutyczne', 'pełny', 'kodeiny', 'budżetu', 'dystrybutora', 'receptach', 'przerzucona', 'ogólnodostępnej', 'dawkowania', 'zamknięta', 'seniorów', 'papierowe', 'aptekarską', 'przepakować', 'wykonywaniu', 'apteczny', 'odbyciu', 'jednostek', 'pełnym', 'odurzające', 'refundacja', 'wskazywać', 'niepełnym', 'tabletek', 'punkt', 'szpitalny', 'aptekarskiej', 'viregytk', 'auctore', 'wodę', 'hurtownią', 'substancje', 'refundowanego', 'autentyczności', 'gramów', 'przepakowania', 'testy', 'ustawie', 'prowadzonych', 'aptekę', 'farmaceutycznego', 'składki', 'kryteria', 'sprawozdanie', 'wojewódzkiego', 'prowadzącej', 'wystawionej', 'receptę', 'strukturze', 'umieszczać', 'dostępny', 'jakościowe', 'nip', 'zakończeniem', 'dostosować', 'felczer', 'lecznicze', 'trymestrze', 'erecepcie', 'posiadający', 'pozostawić', 'technik', 'żywieniowego', 'odmowę', 'kategorii', 'zniżką', 'podejmując', 'substancji', 'odpowiedzialne', 'izbę', 'farmacja', 'wstrzymanie', 'drugim', 'wystawionego', 'higieniczne', 'nowa', 'jakość', 'recepta', 'refundację', 'szpitalnej', 'paszportu', 'liczyć', 'zapotrzebowanie', 'psychotropowych', 'wyznaczoną', 'fakturach', 'technika', 'kierownikiem', 'miejscowości', 'familiae', 'reklamacje', 'preparaty', 'także', 'papierowych', 'specjalnego', 'znajdować', 'razu', 'przeniesieniem', 'wyznaczone', 'określoną', 'wpisywać', 'odpłatnością', 'podwójnej', 'cytostatycznych', 'gifu', 'wyroby', 'dystrybutor', 'przepisać', 'nierefundowane', 'wykonuje', 'dalszej', 'pociąga'],\n",
                "\"prawo pracy\":['kontynuować', 'spotkać', 'zatrudnionym', 'komisja', 'wysyłając', 'ewentualnie', 'często', 'wynosił', 'zajścia', 'przywrócona', 'udania', 'ochrona', 'nowemu', 'cywilnoprawnych', 'dostarczenia', 'podpisanego', 'wynagrodzeniem', 'świadectwo', 'zatrudnienie', 'zewnątrz', 'korekcyjnych', 'stwierdzoną', 'wskazanego', 'uznane', 'pracownicy', 'wypowiedzeniu', 'zależności', 'przerw', 'minimalnego', 'wiążąca', 'konsekwencję', 'przestoju', 'odzieży', 'karmienie', 'rodzicielskim', 'wynikająca', 'ponosił', 'wymaganego', 'maja', 'zdalnej', 'wzroku', 'przedstawione', 'czerwca', 'wypłatą', 'zdalna', 'obecnym', 'skrócenia', 'przewidzianego', 'przedsiębiorstwie', 'przewidującego', 'harmonogram', 'przełożonego', 'maszynistą', 'niewykorzystany', 'intencyjnego', 'porozumienie', 'wynikającej', 'macierzyński', 'zmianę', 'statusu', 'ważnych', 'miejscach', 'przewidzianym', 'bezpłatny', 'okresowe', 'piersią', 'limit', 'pracowała', 'zachowaniu', 'skrócić', 'straci', 'podstawą', 'powszechnie', 'planów', 'zastosowanie', 'bieżącego', 'wysłać', 'rodzicielskiego', 'odprawa', 'przyczyn', 'wymiaru', 'trzynastki', 'przysługiwało', 'wadę', 'winy', 'dodatkowego', 'wypoczynkowym', 'ryzykiem', 'wypoczynkowych', 'potrącić', 'urlopów', 'pracowniczych', 'urlopem', 'stanowiska', 'socjalnych', 'bezrobotnej', 'dyscyplinarnie', 'ekwiwalentu', 'ekwiwalent', 'nałożeniu', 'opieką', 'skierowanych', 'okularów', 'odmówi', 'bezrobotna', 'dwukrotnie', 'zgodzić', 'porozumieniem', 'praca', 'wstępne', 'umiarkowanego', 'tableta', 'własną', 'zainteresowany', 'mobbing', 'przedstawiają', 'zakładowego', 'odbioru', 'dostarczyć', 'okresowych', 'złożonego', 'równoważnym', 'bezrobotnych', 'walki', 'urlopowym', 'zachowaniem', 'raz', 'zmniejszyć', 'kierownicze', 'urzędzie', 'wycofać', 'kapitałowych', 'zawarcie', 'razem', 'wezwać', 'ślub', 'listu', 'ulegnie', 'zmuszenia', 'zawartą', 'obniżyć', 'opisanego', 'nadliczbowych', 'firmie', 'dodatkowy', 'wskazanym', 'med', 'określonym', 'zamiarze', 'nieokreślony', 'obecnego', 'ustnej', 'mobbingu', 'pracownicę', 'przedemerytalną', 'zaprzestania', 'nova', 'zmniejszenia', 'nałożenia', 'pracują', 'ciążę', 'torbę', 'nierówne', 'traktowanie', 'późniejszym', 'urlopowe', 'płatny', 'stosunek', 'maszynista', 'zakazie', 'wprowadzić', 'regionu', 'orzeczenie', 'pary', 'pieniężny', 'planem', 'powód', 'wypowiedziana', 'przedstawienia', 'ochronę', 'dyskryminację', 'zapewnienie', 'niewykorzystanym', 'stopnia', 'sierpnia', 'przestój', 'przebywając', 'ustna', 'porządkowej', 'odprawy', 'traktowana', 'narusza', 'zwolniony', 'równoważny', 'planu', 'warunków', 'notarialnie', 'zwolnieniem', 'najpierw', 'wychowawczym', 'przysługującego', 'aktualnego', 'przysługiwałaby', 'przedłużony', 'wolnego', 'bhp', 'płacy', 'zaległe', 'terminem', 'obniżeniem', 'socjalnobytowa', 'września', 'maszynistów', 'ustawowo', 'utraconego', 'otrzymywania', 'zaległy', 'czasami', 'leżących', 'skuteczność', 'oblicza', 'zadaniowy', 'zmieniające', 'emerytalna', 'wypoczynkowego', 'udzieli', 'regulamin', 'zmieniającego', 'niedziele', 'niepełnosprawności', 'zaległych', 'samo', 'równoważnego', 'organizacji', 'brakiem', 'zmniejszenie', 'pracownika', 'przemieszcza', 'wyczerpują', 'nagany', 'pracownikowi', 'jednostronnie', 'premii', 'poświadczonej', 'pełni', 'zarobków', 'obniżenie', 'grudnia', 'podpisze', 'zawodowego', 'opiniach', 'uchylenie', 'złożone', 'wypłacenie', 'podobnych', 'będący', 'skorzystania', 'miesięczny', 'odpowiedniej', 'wypłaconej', 'podpisanie', 'zmniejszony', 'dotyczyć', 'pracach'],\n",
                "\"prawo medyczne\":['pieczątki', 'uzyskaniem', 'rentgenowskie', 'kwalifikacyjne', 'podstawy', 'oprzyznanie', 'wymaganych', 'organu', 'd', 'wychowuje', 'różni', 'przeznaczone', 'kwalifikować', 'rachunek', 'przeprowadzenie', 'będąca', 'polisy', 'stomatologiczny', 'ww', 'higienistki', 'ratownik', 'obowiązkowych', 'nieskuteczne', 'podwyższyć', 'ponad', 'wyniku', 'kwalifikowania', 'rezydenci', 'epidemiologiczną', 'określają', 'przepracowane', 'placówce', 'publicznych', 'wymagania', 'staży', 'stycznia', 'podyplomowym', 'informować', 'znieczulenia', 'pełnić', 'zdrowie', 'odbywającego', 'tarczy', 'specjalistów', 'ubezwłasnowolnienie', 'postąpić', 'miesiące', 'obowiązują', 'wypłacać', 'standardów', 'sanitarnych', 'dyżurów', 'ginekologii', 'oczekuje', 'praktyką', 'zajęć', 'kurs', 'miesięcznego', 'choroba', 'przyznanie', 'wyposażenia', 'ustawowego', 'kontrakcie', 'przedłużenia', 'upływie', 'wywołanych', 'przyczyny', 'błędu', 'dziedziny', 'kwalifikowaniu', 'covidowy', 'biegłego', 'rejestr', 'posiadaną', 'załączenia', 'programem', 'oddziałach', 'zaleceniami', 'opłacania', 'powyższe', 'test', 'telefonicznej', 'estetycznej', 'wynikiem', 'lekarzem', 'używania', 'działać', 'dziennych', 'pracujący', 'dentystę', 'dyżurze', 'epidemią', 'spełnia', 'powrotem', 'tajemnicą', 'szczepieniach', 'propozycja', 'wyznaczonego', 'prywatnym', 'kryzysowej', 'specjalizacje', 'obowiązana', 'wyjątki', 'jaką', 'konieczności', 'koronawirusa', 'naruszenie', 'ankiecie', 'podstawa', 'tydzień', 'ratunkowym', 'żądanej', 'zapewni', 'administracyjnej', 'podyplomowy', 'stomatologiczną', 'poprzednich', 'zakwalifikowania', 'specjalistycznej', 'prywatnych', 'zrzeknie', 'szczękowotwarzowej', 'wątpliwości', 'skierowany', 'utraci', 'komputerowej', 'centrum', 'neurologii', 'rzecznik', 'pracującemu', 'epidemiologiczne', 'samodzielnego', 'oddelegowanie', 'zol', 'powodujących', 'interwencji', 'kwarantannie', 'ministerstwo', 'szkolenie', 'zgonów', 'szczepienie', 'akcji', 'nowych', 'wykonujących', 'wypisu', 'rozwiąże', 'świadczyć', 'niniejsze', 'uzyskaniu', 'rozwiązaniach', 'stażyście', 'podstawowego', 'szpitalem', 'rezydentom', 'wydłuża', 'funduszem', 'personelu', 'przeciwdziałaniem', 'pełnienie', 'kontraktu', 'dofinansowania', 'objętych', 'program', 'priorytetem', 'pacjentek', 'liczony', 'niewynikającym', 'zejście', 'rezydenturę', 'zabezpieczenia', 'medyczna', 'specjalisty', 'zawodach', 'nieletni', 'wojewodę', 'wystarczające', 'funkcjonuje', 'wyglądają', 'praktyka', 'doświadczenie', 'formy', 'neurologicznym', 'dyżur', 'zewnętrznego', 'dokumentacja', 'bonu', 'rozliczenie', 'pełniony', 'karty', 'przepisach', 'zatrudniać', 'cofnięcie', 'nadzór', 'dodatnim', 'egzaminu', 'pielęgniarki', 'zagwarantować', 'stosować', 'zadań', 'obejmuje', 'obowiązkowej', 'wyrażenia', 'marca', 'podać', 'uznana', 'najniższego', 'polisę', 'numeru', 'dentysty', 'prowadzącemu', 'opisu', 'wypłacił', 'jednostce', 'wizycie', 'stawkę', 'listopada', 'nocneji', 'polskiego', 'odbywać', 'lekarzom', 'muszą', 'przedmiotowa', 'protetyczne', 'antykryzysowej', 'stanu', 'zalecenia', 'narodowym', 'towarzyszące', 'zapobieganiem', 'ustalania', 'kontaktu', 'szczególności', 'teleporadę', 'ldek', 'udzielania', 'dyżurach', 'wtedy', 'wystawione', 'korony', 'opisywać', 'potrzeby', 'kwarantannę', 'fizjoterapeutów', 'epidemiologicznej', 'postępuje', 'przyjmowania', 'klauzulę', 'wydając', 'programie', 'zaszczepiona', 'zeznań', 'uregulowana', 'psychologicznym', 'covidowego', 'świadomej', 'dokumentacje', 'ubezwłasnowolniona', 'wynik', 'uzależnień', 'całą', 'dofinansowanie', 'odbywała', 'domowej', 'zwalnia', 'stażysta', 'zarządzenia', 'zobowiązanie', 'pacjentce', 'tomografii', 'kierunku', 'przestać', 'prywatny', 'wyraził', 'wystąpienia', 'jednostki', 'kierować', 'zatrudnionej', 'izolację', 'chorych', 'ankieta', 'opiekuna', 'zabieg', 'dodatkowych', 'kontakt', 'maksymalny', 'zejścia', 'potraktowane', 'certyfikat', 'głównego', 'dodatku', 'tymczasowym', 'państwowego', 'natychmiastowe', 'udzielenie', 'szczególnych', 'ukrainy', 'dyżurować', 'odbywanie', 'odrobienia', 'sumienia', 'stwierdzania', 'polski', 'twierdzącej', 'klauzuli', 'prowadzonego', 'normy', 'przeprowadzeniu', 'kwarantanną', 'ciągłości', 'zakwalifikować', 'chodzi', 'udziela', 'okazało', 'przejmowania', 'stawienia', 'uda', 'pes', 'szczepieniem', 'wizytę', 'mających', 'fizjoterapeuta', 'zgodzie', 'służbowe', 'przepracowany', 'dopiero', 'intensywnej', 'chorego', 'hiperbarycznej', 'poniedziałek', 'icd', 'wprowadzeniem', 'regularnie', 'dotychczasowych', 'refundacyjne', 'specjalizacji', 'wezwana', 'rezydentowi', 'sanitarnego', 'wojewoda', 'dotychczas', 'starych', 'specjalistę', 'zabiegu', 'studenci', 'psychologa', 'prowadząca', 'wpostępowaniu', 'sanepidu', 'wyznaczyć', 'odbycia', 'zestawienie', 'godzinami', 'dokumentacją', 'psychiatrę', 'pacjentką', 'podania', 'przepis', 'stażysty', 'potrącać', 'obecną', 'odpracować', 'pracującym', 'narazić', 'posługiwać', 'ii', 'pisemnej', 'powołać', 'zasadniczego', 'udostępniania', 'stomatologicznej', 'obejmować', 'ponosić', 'uzasadnione', 'podejrzenie', 'rozumieniu', 'jednostką', 'szpitalnym', 'sarscov', 'uzależniać', 'organizowane', 'wykwalifikowanego', 'zacząć', 'zrezygnuje', 'skierowaniu', 'wysyłania', 'zewnętrznym', 'ponownego', 'prezes', 'pozarezydenckim', 'nocnych', 'wydruk', 'niefinansowanym', 'otrzymanego', 'obecności', 'wypłacenia', 'drugą', 'podmiotem', 'podstawę', 'prowadzącego', 'dawek', 'uprawnia', 'uzupełnienia', 'traktować', 'skierowanie', 'terytorium', 'nosić', 'wykonanie', 'służb', 'ubiegającego', 'przesłanki', 'zwalczaniem', 'asystent', 'objęta', 'zleceniodawcę', 'małoletniego', 'pełnej', 'covidowych', 'pełnego', 'partnerem', 'zagrożeniem', 'teraz', 'ustnie', 'grudzień', 'inaczej', 'ochronnych', 'składania', 'zaszczepić', 'szkoleniu', 'ankiety', 'kwalifikowanie', 'pojechać', 'wypłacane', 'skierowanemu', 'zewnętrznych', 'rodzaju', 'prawna', 'zapisać', 'świątecznej', 'etapie', 'pacjentami', 'obowiązkowego', 'covidowa', 'ubezpieczycielowi', 'odbycie', 'powyższego', 'teleporady', 'inspektoratu', 'ukończył', 'rozwoju', 'kryzysowych', 'wpisany', 'zakaźny', 'systemu', 'wirusem', 'interesów', 'odręcznie', 'przebywać', 'końcowego', 'finansowane', 'wyszedł', 'zaświadczenie', 'wypełnienia', 'sorze', 'oświadczeniu', 'pediatrii', 'historii', 'dezynfekować', 'ograniczeń', 'następnym', 'wcześniejszej', 'kontraktowej', 'oddelegowaniem', 'przyjmować', 'zakażeniem', 'programu', 'listopad', 'bon', 'kwalifikacyjnych', 'potwierdzonym', 'uzupełnić', 'dyżurowania', 'zajmowania', 'terapię', 'roszczeniami', 'cofnąć', 'trzeciej', 'fantoma', 'psychoterapeutą', 'narodowy', 'zdalnie', 'indywidualną', 'decyzją', 'ratunkowego', 'udzielaniu', 'przyjść', 'leczniczej', 'wirusa', 'potwierdzeniu', 'północy', 'związanym', 'nocnej', 'sądowi', 'odmawia', 'medycznego', 'pracą', 'przekształconym', 'przekierowanie', 'wydłużenia', 'dotyczą', 'uczestniczyć', 'samodzielnych', 'zakaźną', 'h', 'telefonicznie', 'ministra', 'aneks', 'podyplomowego', 'domowych', 'wojewody', 'być', 'specjalizacyjne', 'zawnioskować', 'służącej', 'niebędących', 'przedłużyć', 'optout', 'podawać', 'przyjąć', 'zgonu', 'zakażonych', 'wpłynąć', 'pacjenci', 'komory', 'poradni', 'pacjentem', 'wystosować', 'kursy', 'pełnił', 'specjalizacyjnego', 'ankiet', 'częściowo', 'leczeniem', 'nieprzestrzeganie', 'przekazana', 'podejrzeniem', 'delegować', 'patriotyczny', 'powszednie', 'społecznego', 'masażu', 'samozatrudnionych', 'specjalista', 'minimalną', 'pielęgniarkę', 'związany', 'błąd', 'zainstalowania', 'wynosić', 'szyba', 'kształtować', 'niezależnie', 'wskazanej', 'domową', 'macierzystym', 'zdrowotnego', 'współpracy', 'objęty', 'musiałby', 'epidemiologicznego', 'zmian', 'rodzinie', 'asystentki', 'prokuraturę', 'wizyt', 'udzielanie', 'chorobą', 'data', 'maseczek', 'kontrast', 'przychodnia', 'rezydentury', 'mailowy', 'sanepid', 'ubiegania', 'dawki', 'poniedziałki', 'aplikacji', 'położnictwa', 'konflikt', 'zewnętrzny', 'odmowie', 'bezpośredni', 'nadzorem', 'oddziałem', 'dentysta', 'odbywa', 'poz', 'niedopełnienie'],\n",
                "\"prawo karne\":['popełnieniu', 'opinię', 'stawiennictwo', 'ogólnych', 'pielęgniarek', 'pożyczek', 'ocenie', 'środka', 'sprzeciwu', 'karnego', 'orzeczenia', 'wolności', 'rodzic', 'współżyła', 'karnym', 'szesnastolatek', 'zawiesić', 'przemoc', 'organom', 'utrudnia', 'zajmująca', 'wskazano', 'wypełnia', 'komorniczej', 'zapobieganiu', 'dłużnik', 'pokryłby', 'pacjentkę', 'wykroczenia', 'popełnienia', 'pytać', 'płyty', 'gdzieś', 'aktach', 'policjant', 'stawiennictwa', 'wniesienie', 'instancji', 'zaskarżenia', 'okręgowy', 'zakaz', 'dotyczącymi', 'przesłuchaniu', 'organów', 'ludzi', 'poweźmie', 'nastolatka', 'przestępstwa', 'prokurator', 'skazania', 'ustalenia', 'prawnika', 'zdecyduje', 'dyscyplinarną', 'skazującego', 'towarów', 'znamiona', 'zawiadomienie', 'umiejętnościami', 'transportem', 'podejrzanego', 'okaże', 'czuje', 'sekcji', 'ścigania', 'osobom', 'dobrowolnej', 'nosa', 'jakie', 'seniora', 'groźba', 'przesłuchania', 'ciężkiego', 'odsetki', 'czynu', 'niezakrywającym', 'złamanie', 'zbliżania', 'zeznania', 'warszawie', 'świadek', 'podanej', 'uznania', 'rozpoznanie', 'zwłok', 'prokuraturze', 'psycholog', 'pismem', 'rozmowę'],\n",
                "\"prawo miädzynarodowe\":['granicami', 'wielkiej', 'rękawice', 'konkurencyjna', 'importer', 'kosmetyczne', 'ocenę', 'ochronne', 'artykułu', 'sprowadzający', 'bezpieczeństwa', 'sprzedawane'],\n",
                "\"prawo podatkowe\":['rejestru', 'wstecz', 'fiskalną', 'robić', 'nzoz', 'pobierane', 'nabywcą', 'fakturze', 'lex', 'jedną', 'paragonu', 'rejestrować', 'fiskalnych', 'skarbowego', 'akcyzowych', 'naczelnik', 'rozliczać', 'ceidg', 'kas', 'paragony', 'jedzenia', 'pkd', 'wyrażone', 'emeryturze', 'kasę', 'kasie', 'przychodu', 'niepublicznym', 'dostawy', 'rozszerzyć', 'standardową', 'podatkowa', 'zobligowany', 'secure'],\n",
                "\"prawo konstytucyjne\":['wyjść', 'konstytucją'],\n",
                "\n",
                "}"
            ]
        },
        {
            "cell_type": "code",
            "execution_count": 17,
            "metadata": {},
            "outputs": [],
            "source": [
                "def readFile(file):\n",
                "    f = open(file, \"r\").read()\n",
                "    return f\n",
                "def loadStopwords():\n",
                "    return readFile(\"data/polish.stopwords.txt\").splitlines()\n",
                "\n",
                "stopwords = loadStopwords()\n",
                "\n",
                "def tokenize(text):\n",
                "    return text.split(\" \")\n",
                "\n",
                "def filterStopwords(tokens):\n",
                "    for t in tokens:\n",
                "        if t in stopwords:\n",
                "            tokens.remove(t)\n",
                "    return tokens\n",
                "\n",
                "\n",
                "def calculateProbability(tokens, category_tokens):\n",
                "\n",
                "    finished=0\n",
                "    w={}\n",
                "    for k in tokens:\n",
                "        w[k]=0\n",
                "\n",
                "    for t1 in tokens:\n",
                "        tmp=0\n",
                "        prob=0\n",
                "        for t2 in category_tokens:\n",
                "            try:\n",
                "                # tmp=((glove.similarity(t1,t2)*100)**5)/1E10\n",
                "                tmp=glove.similarity(t1,t2)\n",
                "                if tmp>prob:\n",
                "                    prob=tmp\n",
                "                    finished+=1\n",
                "            except:\n",
                "                pass\n",
                "        w[t1]=prob\n",
                "\n",
                "\n",
                "    \n",
                "\n",
                "    return np.average(w.values())#0 if finished==0 else prob/finished\n",
                "\n",
                "\n",
                "for k in words.keys():\n",
                "    words[k]=filterStopwords(words[k])\n",
                "\n",
                "def getCategory(text):\n",
                "    text=text.replace(\".\",\"\").replace(\"?\",\"\").replace(\",\",\"\")\n",
                "    tokens = tokenize(text)\n",
                "    tokens = filterStopwords(tokens)\n",
                "    \n",
                "    prob={}\n",
                "\n",
                "    \n",
                "    for k in words.keys():\n",
                "        prob[k]=calculateProbability(tokens,filterStopwords(words[k]))\n",
                "\n",
                "    #print(prob)\n",
                "\n",
                "    return max(prob, key=prob.get)\n",
                "\n"
            ]
        },
        {
            "cell_type": "code",
            "execution_count": 5,
            "metadata": {},
            "outputs": [
                {
                    "name": "stdout",
                    "output_type": "stream",
                    "text": [
                        "prawo medyczne\n"
                    ]
                }
            ],
            "source": [
                "print(getCategory(\"czy sąd może zwolnić klientkę z tajemnicy lekarskiej czy osoba ubezwłasnowolniona może nie wyrazić zgody na umieszczenie jej w domu pomocy społecznej lub zakładzie pielęgnacyjnoopiekuńczym?\"))"
            ]
        },
        {
            "cell_type": "code",
            "execution_count": 6,
            "metadata": {},
            "outputs": [
                {
                    "name": "stdout",
                    "output_type": "stream",
                    "text": [
                        "prawo cywilne\n"
                    ]
                }
            ],
            "source": [
                "print(getCategory(readFile(\"data/criminal_doc.txt\")))"
            ]
        },
        {
            "cell_type": "code",
            "execution_count": 7,
            "metadata": {},
            "outputs": [],
            "source": [
                "df =pd.read_csv(\"DATASET_NO_UNUSUAL_AND_INTERPOLSKA.csv\")"
            ]
        },
        {
            "cell_type": "code",
            "execution_count": 8,
            "metadata": {},
            "outputs": [],
            "source": [
                "def get_random_classification():\n",
                "    tags = ['administrative_law','civil_law','medical_law','tax_law','criminal_law','pharmaceutical_law','labor_law','international_law','constitutional_law']\n",
                "    rand = random.randrange(0, 6, 1)\n",
                "    return tags[rand]"
            ]
        },
        {
            "cell_type": "code",
            "execution_count": 18,
            "metadata": {},
            "outputs": [
                {
                    "name": "stdout",
                    "output_type": "stream",
                    "text": [
                        "czy wspólnota mieszkaniowa może podjąć uchwałę dotyczącą zakupu wodomierzy odczytywanych radiowo do lokali pokrywając ich koszty\n"
                    ]
                },
                {
                    "ename": "TypeError",
                    "evalue": "unsupported operand type(s) for /: 'dict' and 'int'",
                    "output_type": "error",
                    "traceback": [
                        "\u001b[0;31m---------------------------------------------------------------------------\u001b[0m",
                        "\u001b[0;31mTypeError\u001b[0m                                 Traceback (most recent call last)",
                        "Cell \u001b[0;32mIn[18], line 16\u001b[0m\n\u001b[1;32m     14\u001b[0m \u001b[39mif\u001b[39;00m \u001b[39mlen\u001b[39m(\u001b[39mstr\u001b[39m(text))\u001b[39m<\u001b[39m\u001b[39m4\u001b[39m:\n\u001b[1;32m     15\u001b[0m     \u001b[39mcontinue\u001b[39;00m\n\u001b[0;32m---> 16\u001b[0m category\u001b[39m=\u001b[39mgetCategory(text)\n\u001b[1;32m     17\u001b[0m \u001b[39mprint\u001b[39m(\u001b[39m'\u001b[39m\u001b[39m{}\u001b[39;00m\u001b[39m/\u001b[39m\u001b[39m{}\u001b[39;00m\u001b[39m label: \u001b[39m\u001b[39m{}\u001b[39;00m\u001b[39m, classified: \u001b[39m\u001b[39m{}\u001b[39;00m\u001b[39m | CORRECT?: \u001b[39m\u001b[39m{}\u001b[39;00m\u001b[39m'\u001b[39m\u001b[39m.\u001b[39mformat(i,\u001b[39mlen\u001b[39m(df),label, category,label\u001b[39m==\u001b[39mcategory))\n\u001b[1;32m     18\u001b[0m \u001b[39mif\u001b[39;00m label\u001b[39m==\u001b[39mcategory:\n",
                        "Cell \u001b[0;32mIn[17], line 58\u001b[0m, in \u001b[0;36mgetCategory\u001b[0;34m(text)\u001b[0m\n\u001b[1;32m     54\u001b[0m prob\u001b[39m=\u001b[39m{}\n\u001b[1;32m     57\u001b[0m \u001b[39mfor\u001b[39;00m k \u001b[39min\u001b[39;00m words\u001b[39m.\u001b[39mkeys():\n\u001b[0;32m---> 58\u001b[0m     prob[k]\u001b[39m=\u001b[39mcalculateProbability(tokens,filterStopwords(words[k]))\n\u001b[1;32m     60\u001b[0m \u001b[39m#print(prob)\u001b[39;00m\n\u001b[1;32m     62\u001b[0m \u001b[39mreturn\u001b[39;00m \u001b[39mmax\u001b[39m(prob, key\u001b[39m=\u001b[39mprob\u001b[39m.\u001b[39mget)\n",
                        "Cell \u001b[0;32mIn[17], line 43\u001b[0m, in \u001b[0;36mcalculateProbability\u001b[0;34m(tokens, category_tokens)\u001b[0m\n\u001b[1;32m     37\u001b[0m             \u001b[39mpass\u001b[39;00m\n\u001b[1;32m     38\u001b[0m     w[t1]\u001b[39m=\u001b[39mprob\n\u001b[0;32m---> 43\u001b[0m \u001b[39mreturn\u001b[39;00m np\u001b[39m.\u001b[39;49maverage(w)\n",
                        "File \u001b[0;32m<__array_function__ internals>:180\u001b[0m, in \u001b[0;36maverage\u001b[0;34m(*args, **kwargs)\u001b[0m\n",
                        "File \u001b[0;32m/opt/homebrew/lib/python3.10/site-packages/numpy/lib/function_base.py:518\u001b[0m, in \u001b[0;36maverage\u001b[0;34m(a, axis, weights, returned, keepdims)\u001b[0m\n\u001b[1;32m    515\u001b[0m     keepdims_kw \u001b[39m=\u001b[39m {\u001b[39m'\u001b[39m\u001b[39mkeepdims\u001b[39m\u001b[39m'\u001b[39m: keepdims}\n\u001b[1;32m    517\u001b[0m \u001b[39mif\u001b[39;00m weights \u001b[39mis\u001b[39;00m \u001b[39mNone\u001b[39;00m:\n\u001b[0;32m--> 518\u001b[0m     avg \u001b[39m=\u001b[39m a\u001b[39m.\u001b[39;49mmean(axis, \u001b[39m*\u001b[39;49m\u001b[39m*\u001b[39;49mkeepdims_kw)\n\u001b[1;32m    519\u001b[0m     scl \u001b[39m=\u001b[39m avg\u001b[39m.\u001b[39mdtype\u001b[39m.\u001b[39mtype(a\u001b[39m.\u001b[39msize\u001b[39m/\u001b[39mavg\u001b[39m.\u001b[39msize)\n\u001b[1;32m    520\u001b[0m \u001b[39melse\u001b[39;00m:\n",
                        "File \u001b[0;32m/opt/homebrew/lib/python3.10/site-packages/numpy/core/_methods.py:192\u001b[0m, in \u001b[0;36m_mean\u001b[0;34m(a, axis, dtype, out, keepdims, where)\u001b[0m\n\u001b[1;32m    190\u001b[0m         ret \u001b[39m=\u001b[39m ret\u001b[39m.\u001b[39mdtype\u001b[39m.\u001b[39mtype(ret \u001b[39m/\u001b[39m rcount)\n\u001b[1;32m    191\u001b[0m \u001b[39melse\u001b[39;00m:\n\u001b[0;32m--> 192\u001b[0m     ret \u001b[39m=\u001b[39m ret \u001b[39m/\u001b[39;49m rcount\n\u001b[1;32m    194\u001b[0m \u001b[39mreturn\u001b[39;00m ret\n",
                        "\u001b[0;31mTypeError\u001b[0m: unsupported operand type(s) for /: 'dict' and 'int'"
                    ]
                }
            ],
            "source": [
                "correctClassifications = 0\n",
                "randomCorrectClassification = 0\n",
                "sentences = []\n",
                "labelTags = {'administrative_law':'prawo administracyjne','civil_law':'prawo cywilne','medical_law':'prawo medyczne','tax_law':'prawo podatkowe','criminal_law':'prawo karne','pharmaceutical_law':'prawo farmaceutyczne', 'labor_law':'prawo pracy','international_law':'prawo miädzynarodowe','constitutional_law':'prawo konstytucyjne'}\n",
                "\n",
                "missed={}\n",
                "\n",
                "for k in words.keys():\n",
                "    missed[k]=0\n",
                "for i in range(len(df)):\n",
                "    label= df['label_high'][i]\n",
                "    text = df['text_full'][i]\n",
                "    print(text)\n",
                "    if len(str(text))<4:\n",
                "        continue\n",
                "    category=getCategory(text)\n",
                "    print('{}/{} label: {}, classified: {} | CORRECT?: {}'.format(i,len(df),label, category,label==category))\n",
                "    if label==category:\n",
                "        correctClassifications+=1\n",
                "    else:\n",
                "        missed[category]+=1\n",
                "    if label == labelTags[get_random_classification()]:\n",
                "        randomCorrectClassification += 1\n",
                "    \n",
                "print('Overall accuracy: {}%'.format(correctClassifications/len(df)*100))\n",
                "print('Overall accuracy for random classification: {}%'.format(randomCorrectClassification/len(df)*100))\n",
                "print(missed)"
            ]
        }
    ],
    "metadata": {
        "kernelspec": {
            "display_name": "Python 3",
            "language": "python",
            "name": "python3"
        },
        "language_info": {
            "codemirror_mode": {
                "name": "ipython",
                "version": 3
            },
            "file_extension": ".py",
            "mimetype": "text/x-python",
            "name": "python",
            "nbconvert_exporter": "python",
            "pygments_lexer": "ipython3",
            "version": "3.10.8"
        },
        "vscode": {
            "interpreter": {
                "hash": "b0fa6594d8f4cbf19f97940f81e996739fb7646882a419484c72d19e05852a7e"
            }
        }
    },
    "nbformat": 4,
    "nbformat_minor": 2
}
